{
  "nbformat": 4,
  "nbformat_minor": 0,
  "metadata": {
    "colab": {
      "provenance": []
    },
    "kernelspec": {
      "name": "ir",
      "display_name": "R"
    },
    "language_info": {
      "name": "R"
    }
  },
  "cells": [
    {
      "cell_type": "markdown",
      "source": [
        "I will be constructing a multiple linear regression model to predict the Median value of owner-occupied homes in $1000's (MEDV) in the city of Boston. I will be using a model selection algorithm which is known as forward selection. The dataset used can be found at https://www.kaggle.com/datasets/fedesoriano/the-boston-houseprice-data\n",
        "\n",
        "Below is a description of the variables that will be used.\n",
        "\n",
        "1) CRIM: per capita crime rate by town\n",
        "\n",
        "2) ZN: proportion of residential land zoned for lots over 25,000 sq.ft.\n",
        "\n",
        "3) INDUS: proportion of non-retail business acres per town\n",
        "\n",
        "4) CHAS: Charles River dummy variable (1 if tract bounds river; 0 otherwise)\n",
        "\n",
        "5) NOX: nitric oxides concentration (parts per 10 million) [parts/10M]\n",
        "\n",
        "6) RM: average number of rooms per dwelling\n",
        "\n",
        "7) AGE: proportion of owner-occupied units built prior to 1940\n",
        "\n",
        "8) DIS: weighted distances to five Boston employment centres\n",
        "\n",
        "9) RAD: index of accessibility to radial highways\n",
        "\n",
        "10) TAX: full-value property-tax rate per $10,000 [$/10k]\n",
        "\n",
        "11) PTRATIO: pupil-teacher ratio by town\n",
        "\n",
        "12) B: The result of the equation B=1000(Bk - 0.63)^2 where Bk is the proportion of African-American people by town\n",
        "\n",
        "13) LSTAT: % lower status of the population"
      ],
      "metadata": {
        "id": "RLHrC4t3tb0p"
      }
    },
    {
      "cell_type": "code",
      "execution_count": 2,
      "metadata": {
        "colab": {
          "base_uri": "https://localhost:8080/",
          "height": 407
        },
        "id": "pNejKuj6iz_J",
        "outputId": "18d2d465-1af4-4082-f139-d651e330a693"
      },
      "outputs": [
        {
          "output_type": "stream",
          "name": "stderr",
          "text": [
            "\u001b[1mRows: \u001b[22m\u001b[34m506\u001b[39m \u001b[1mColumns: \u001b[22m\u001b[34m14\u001b[39m\n",
            "\u001b[36m──\u001b[39m \u001b[1mColumn specification\u001b[22m \u001b[36m────────────────────────────────────────────────────────\u001b[39m\n",
            "\u001b[1mDelimiter:\u001b[22m \",\"\n",
            "\u001b[32mdbl\u001b[39m (14): CRIM, ZN, INDUS, CHAS, NOX, RM, AGE, DIS, RAD, TAX, PTRATIO, B, LS...\n",
            "\n",
            "\u001b[36mℹ\u001b[39m Use `spec()` to retrieve the full column specification for this data.\n",
            "\u001b[36mℹ\u001b[39m Specify the column types or set `show_col_types = FALSE` to quiet this message.\n"
          ]
        },
        {
          "output_type": "display_data",
          "data": {
            "text/html": [
              "<table class=\"dataframe\">\n",
              "<caption>A data.frame: 6 × 14</caption>\n",
              "<thead>\n",
              "\t<tr><th></th><th scope=col>CRIM</th><th scope=col>ZN</th><th scope=col>INDUS</th><th scope=col>CHAS</th><th scope=col>NOX</th><th scope=col>RM</th><th scope=col>AGE</th><th scope=col>DIS</th><th scope=col>RAD</th><th scope=col>TAX</th><th scope=col>PTRATIO</th><th scope=col>B</th><th scope=col>LSTAT</th><th scope=col>MEDV</th></tr>\n",
              "\t<tr><th></th><th scope=col>&lt;dbl&gt;</th><th scope=col>&lt;dbl&gt;</th><th scope=col>&lt;dbl&gt;</th><th scope=col>&lt;dbl&gt;</th><th scope=col>&lt;dbl&gt;</th><th scope=col>&lt;dbl&gt;</th><th scope=col>&lt;dbl&gt;</th><th scope=col>&lt;dbl&gt;</th><th scope=col>&lt;dbl&gt;</th><th scope=col>&lt;dbl&gt;</th><th scope=col>&lt;dbl&gt;</th><th scope=col>&lt;dbl&gt;</th><th scope=col>&lt;dbl&gt;</th><th scope=col>&lt;dbl&gt;</th></tr>\n",
              "</thead>\n",
              "<tbody>\n",
              "\t<tr><th scope=row>1</th><td>0.00632</td><td>18</td><td>2.31</td><td>0</td><td>0.538</td><td>6.575</td><td>65.2</td><td>4.0900</td><td>1</td><td>296</td><td>15.3</td><td>396.90</td><td>4.98</td><td>24.0</td></tr>\n",
              "\t<tr><th scope=row>2</th><td>0.02731</td><td> 0</td><td>7.07</td><td>0</td><td>0.469</td><td>6.421</td><td>78.9</td><td>4.9671</td><td>2</td><td>242</td><td>17.8</td><td>396.90</td><td>9.14</td><td>21.6</td></tr>\n",
              "\t<tr><th scope=row>3</th><td>0.02729</td><td> 0</td><td>7.07</td><td>0</td><td>0.469</td><td>7.185</td><td>61.1</td><td>4.9671</td><td>2</td><td>242</td><td>17.8</td><td>392.83</td><td>4.03</td><td>34.7</td></tr>\n",
              "\t<tr><th scope=row>4</th><td>0.03237</td><td> 0</td><td>2.18</td><td>0</td><td>0.458</td><td>6.998</td><td>45.8</td><td>6.0622</td><td>3</td><td>222</td><td>18.7</td><td>394.63</td><td>2.94</td><td>33.4</td></tr>\n",
              "\t<tr><th scope=row>5</th><td>0.06905</td><td> 0</td><td>2.18</td><td>0</td><td>0.458</td><td>7.147</td><td>54.2</td><td>6.0622</td><td>3</td><td>222</td><td>18.7</td><td>396.90</td><td>5.33</td><td>36.2</td></tr>\n",
              "\t<tr><th scope=row>6</th><td>0.02985</td><td> 0</td><td>2.18</td><td>0</td><td>0.458</td><td>6.430</td><td>58.7</td><td>6.0622</td><td>3</td><td>222</td><td>18.7</td><td>394.12</td><td>5.21</td><td>28.7</td></tr>\n",
              "</tbody>\n",
              "</table>\n"
            ],
            "text/markdown": "\nA data.frame: 6 × 14\n\n| <!--/--> | CRIM &lt;dbl&gt; | ZN &lt;dbl&gt; | INDUS &lt;dbl&gt; | CHAS &lt;dbl&gt; | NOX &lt;dbl&gt; | RM &lt;dbl&gt; | AGE &lt;dbl&gt; | DIS &lt;dbl&gt; | RAD &lt;dbl&gt; | TAX &lt;dbl&gt; | PTRATIO &lt;dbl&gt; | B &lt;dbl&gt; | LSTAT &lt;dbl&gt; | MEDV &lt;dbl&gt; |\n|---|---|---|---|---|---|---|---|---|---|---|---|---|---|---|\n| 1 | 0.00632 | 18 | 2.31 | 0 | 0.538 | 6.575 | 65.2 | 4.0900 | 1 | 296 | 15.3 | 396.90 | 4.98 | 24.0 |\n| 2 | 0.02731 |  0 | 7.07 | 0 | 0.469 | 6.421 | 78.9 | 4.9671 | 2 | 242 | 17.8 | 396.90 | 9.14 | 21.6 |\n| 3 | 0.02729 |  0 | 7.07 | 0 | 0.469 | 7.185 | 61.1 | 4.9671 | 2 | 242 | 17.8 | 392.83 | 4.03 | 34.7 |\n| 4 | 0.03237 |  0 | 2.18 | 0 | 0.458 | 6.998 | 45.8 | 6.0622 | 3 | 222 | 18.7 | 394.63 | 2.94 | 33.4 |\n| 5 | 0.06905 |  0 | 2.18 | 0 | 0.458 | 7.147 | 54.2 | 6.0622 | 3 | 222 | 18.7 | 396.90 | 5.33 | 36.2 |\n| 6 | 0.02985 |  0 | 2.18 | 0 | 0.458 | 6.430 | 58.7 | 6.0622 | 3 | 222 | 18.7 | 394.12 | 5.21 | 28.7 |\n\n",
            "text/latex": "A data.frame: 6 × 14\n\\begin{tabular}{r|llllllllllllll}\n  & CRIM & ZN & INDUS & CHAS & NOX & RM & AGE & DIS & RAD & TAX & PTRATIO & B & LSTAT & MEDV\\\\\n  & <dbl> & <dbl> & <dbl> & <dbl> & <dbl> & <dbl> & <dbl> & <dbl> & <dbl> & <dbl> & <dbl> & <dbl> & <dbl> & <dbl>\\\\\n\\hline\n\t1 & 0.00632 & 18 & 2.31 & 0 & 0.538 & 6.575 & 65.2 & 4.0900 & 1 & 296 & 15.3 & 396.90 & 4.98 & 24.0\\\\\n\t2 & 0.02731 &  0 & 7.07 & 0 & 0.469 & 6.421 & 78.9 & 4.9671 & 2 & 242 & 17.8 & 396.90 & 9.14 & 21.6\\\\\n\t3 & 0.02729 &  0 & 7.07 & 0 & 0.469 & 7.185 & 61.1 & 4.9671 & 2 & 242 & 17.8 & 392.83 & 4.03 & 34.7\\\\\n\t4 & 0.03237 &  0 & 2.18 & 0 & 0.458 & 6.998 & 45.8 & 6.0622 & 3 & 222 & 18.7 & 394.63 & 2.94 & 33.4\\\\\n\t5 & 0.06905 &  0 & 2.18 & 0 & 0.458 & 7.147 & 54.2 & 6.0622 & 3 & 222 & 18.7 & 396.90 & 5.33 & 36.2\\\\\n\t6 & 0.02985 &  0 & 2.18 & 0 & 0.458 & 6.430 & 58.7 & 6.0622 & 3 & 222 & 18.7 & 394.12 & 5.21 & 28.7\\\\\n\\end{tabular}\n",
            "text/plain": [
              "  CRIM    ZN INDUS CHAS NOX   RM    AGE  DIS    RAD TAX PTRATIO B      LSTAT\n",
              "1 0.00632 18 2.31  0    0.538 6.575 65.2 4.0900 1   296 15.3    396.90 4.98 \n",
              "2 0.02731  0 7.07  0    0.469 6.421 78.9 4.9671 2   242 17.8    396.90 9.14 \n",
              "3 0.02729  0 7.07  0    0.469 7.185 61.1 4.9671 2   242 17.8    392.83 4.03 \n",
              "4 0.03237  0 2.18  0    0.458 6.998 45.8 6.0622 3   222 18.7    394.63 2.94 \n",
              "5 0.06905  0 2.18  0    0.458 7.147 54.2 6.0622 3   222 18.7    396.90 5.33 \n",
              "6 0.02985  0 2.18  0    0.458 6.430 58.7 6.0622 3   222 18.7    394.12 5.21 \n",
              "  MEDV\n",
              "1 24.0\n",
              "2 21.6\n",
              "3 34.7\n",
              "4 33.4\n",
              "5 36.2\n",
              "6 28.7"
            ]
          },
          "metadata": {}
        }
      ],
      "source": [
        "library(readr)\n",
        "boston <- read_csv(\"boston.csv\")\n",
        "boston <- as.data.frame(boston)\n",
        "head(boston)"
      ]
    },
    {
      "cell_type": "code",
      "source": [
        "any(is.na(boston)) # to check if there are any missing values"
      ],
      "metadata": {
        "colab": {
          "base_uri": "https://localhost:8080/",
          "height": 34
        },
        "id": "fiJEnRMmjUUe",
        "outputId": "ac136457-b159-4afa-cdf1-82c8bb5fb291"
      },
      "execution_count": null,
      "outputs": [
        {
          "output_type": "display_data",
          "data": {
            "text/html": [
              "FALSE"
            ],
            "text/markdown": "FALSE",
            "text/latex": "FALSE",
            "text/plain": [
              "[1] FALSE"
            ]
          },
          "metadata": {}
        }
      ]
    },
    {
      "cell_type": "code",
      "source": [
        "mod0 <- lm(MEDV ~ 1, data = boston)\n",
        "add1(mod0, scope = .~. + CRIM + ZN + INDUS + NOX + RM + AGE + DIS + RAD + TAX + PTRATIO + B + LSTAT, test = \"F\")"
      ],
      "metadata": {
        "colab": {
          "base_uri": "https://localhost:8080/",
          "height": 505
        },
        "id": "emo5cOqljbCJ",
        "outputId": "a28bb02e-da9c-4425-87bf-884ead7134d5"
      },
      "execution_count": 3,
      "outputs": [
        {
          "output_type": "display_data",
          "data": {
            "text/html": [
              "<table class=\"dataframe\">\n",
              "<caption>A anova: 13 × 6</caption>\n",
              "<thead>\n",
              "\t<tr><th></th><th scope=col>Df</th><th scope=col>Sum of Sq</th><th scope=col>RSS</th><th scope=col>AIC</th><th scope=col>F value</th><th scope=col>Pr(&gt;F)</th></tr>\n",
              "\t<tr><th></th><th scope=col>&lt;dbl&gt;</th><th scope=col>&lt;dbl&gt;</th><th scope=col>&lt;dbl&gt;</th><th scope=col>&lt;dbl&gt;</th><th scope=col>&lt;dbl&gt;</th><th scope=col>&lt;dbl&gt;</th></tr>\n",
              "</thead>\n",
              "<tbody>\n",
              "\t<tr><th scope=row>&lt;none&gt;</th><td>NA</td><td>       NA</td><td>42716.30</td><td>2246.514</td><td>       NA</td><td>          NA</td></tr>\n",
              "\t<tr><th scope=row>CRIM</th><td> 1</td><td> 6440.783</td><td>36275.51</td><td>2165.815</td><td> 89.48611</td><td>1.173987e-19</td></tr>\n",
              "\t<tr><th scope=row>ZN</th><td> 1</td><td> 5549.737</td><td>37166.56</td><td>2178.094</td><td> 75.25764</td><td>5.713584e-17</td></tr>\n",
              "\t<tr><th scope=row>INDUS</th><td> 1</td><td> 9995.187</td><td>32721.11</td><td>2113.635</td><td>153.95488</td><td>4.900260e-31</td></tr>\n",
              "\t<tr><th scope=row>NOX</th><td> 1</td><td> 7800.126</td><td>34916.17</td><td>2146.489</td><td>112.59148</td><td>7.065042e-24</td></tr>\n",
              "\t<tr><th scope=row>RM</th><td> 1</td><td>20654.416</td><td>22061.88</td><td>1914.185</td><td>471.84674</td><td>2.487229e-74</td></tr>\n",
              "\t<tr><th scope=row>AGE</th><td> 1</td><td> 6069.761</td><td>36646.53</td><td>2170.964</td><td> 83.47746</td><td>1.569982e-18</td></tr>\n",
              "\t<tr><th scope=row>DIS</th><td> 1</td><td> 2668.247</td><td>40048.05</td><td>2215.877</td><td> 33.57957</td><td>1.206612e-08</td></tr>\n",
              "\t<tr><th scope=row>RAD</th><td> 1</td><td> 6221.141</td><td>36495.15</td><td>2168.869</td><td> 85.91428</td><td>5.465933e-19</td></tr>\n",
              "\t<tr><th scope=row>TAX</th><td> 1</td><td> 9377.334</td><td>33338.96</td><td>2123.100</td><td>141.76136</td><td>5.637734e-29</td></tr>\n",
              "\t<tr><th scope=row>PTRATIO</th><td> 1</td><td>11014.282</td><td>31702.01</td><td>2097.625</td><td>175.10554</td><td>1.609509e-34</td></tr>\n",
              "\t<tr><th scope=row>B</th><td> 1</td><td> 4749.886</td><td>37966.41</td><td>2188.868</td><td> 63.05423</td><td>1.318113e-14</td></tr>\n",
              "\t<tr><th scope=row>LSTAT</th><td> 1</td><td>23243.914</td><td>19472.38</td><td>1851.009</td><td>601.61787</td><td>5.081103e-88</td></tr>\n",
              "</tbody>\n",
              "</table>\n"
            ],
            "text/markdown": "\nA anova: 13 × 6\n\n| <!--/--> | Df &lt;dbl&gt; | Sum of Sq &lt;dbl&gt; | RSS &lt;dbl&gt; | AIC &lt;dbl&gt; | F value &lt;dbl&gt; | Pr(&gt;F) &lt;dbl&gt; |\n|---|---|---|---|---|---|---|\n| &lt;none&gt; | NA |        NA | 42716.30 | 2246.514 |        NA |           NA |\n| CRIM |  1 |  6440.783 | 36275.51 | 2165.815 |  89.48611 | 1.173987e-19 |\n| ZN |  1 |  5549.737 | 37166.56 | 2178.094 |  75.25764 | 5.713584e-17 |\n| INDUS |  1 |  9995.187 | 32721.11 | 2113.635 | 153.95488 | 4.900260e-31 |\n| NOX |  1 |  7800.126 | 34916.17 | 2146.489 | 112.59148 | 7.065042e-24 |\n| RM |  1 | 20654.416 | 22061.88 | 1914.185 | 471.84674 | 2.487229e-74 |\n| AGE |  1 |  6069.761 | 36646.53 | 2170.964 |  83.47746 | 1.569982e-18 |\n| DIS |  1 |  2668.247 | 40048.05 | 2215.877 |  33.57957 | 1.206612e-08 |\n| RAD |  1 |  6221.141 | 36495.15 | 2168.869 |  85.91428 | 5.465933e-19 |\n| TAX |  1 |  9377.334 | 33338.96 | 2123.100 | 141.76136 | 5.637734e-29 |\n| PTRATIO |  1 | 11014.282 | 31702.01 | 2097.625 | 175.10554 | 1.609509e-34 |\n| B |  1 |  4749.886 | 37966.41 | 2188.868 |  63.05423 | 1.318113e-14 |\n| LSTAT |  1 | 23243.914 | 19472.38 | 1851.009 | 601.61787 | 5.081103e-88 |\n\n",
            "text/latex": "A anova: 13 × 6\n\\begin{tabular}{r|llllll}\n  & Df & Sum of Sq & RSS & AIC & F value & Pr(>F)\\\\\n  & <dbl> & <dbl> & <dbl> & <dbl> & <dbl> & <dbl>\\\\\n\\hline\n\t<none> & NA &        NA & 42716.30 & 2246.514 &        NA &           NA\\\\\n\tCRIM &  1 &  6440.783 & 36275.51 & 2165.815 &  89.48611 & 1.173987e-19\\\\\n\tZN &  1 &  5549.737 & 37166.56 & 2178.094 &  75.25764 & 5.713584e-17\\\\\n\tINDUS &  1 &  9995.187 & 32721.11 & 2113.635 & 153.95488 & 4.900260e-31\\\\\n\tNOX &  1 &  7800.126 & 34916.17 & 2146.489 & 112.59148 & 7.065042e-24\\\\\n\tRM &  1 & 20654.416 & 22061.88 & 1914.185 & 471.84674 & 2.487229e-74\\\\\n\tAGE &  1 &  6069.761 & 36646.53 & 2170.964 &  83.47746 & 1.569982e-18\\\\\n\tDIS &  1 &  2668.247 & 40048.05 & 2215.877 &  33.57957 & 1.206612e-08\\\\\n\tRAD &  1 &  6221.141 & 36495.15 & 2168.869 &  85.91428 & 5.465933e-19\\\\\n\tTAX &  1 &  9377.334 & 33338.96 & 2123.100 & 141.76136 & 5.637734e-29\\\\\n\tPTRATIO &  1 & 11014.282 & 31702.01 & 2097.625 & 175.10554 & 1.609509e-34\\\\\n\tB &  1 &  4749.886 & 37966.41 & 2188.868 &  63.05423 & 1.318113e-14\\\\\n\tLSTAT &  1 & 23243.914 & 19472.38 & 1851.009 & 601.61787 & 5.081103e-88\\\\\n\\end{tabular}\n",
            "text/plain": [
              "        Df Sum of Sq RSS      AIC      F value   Pr(>F)      \n",
              "<none>  NA        NA 42716.30 2246.514        NA           NA\n",
              "CRIM     1  6440.783 36275.51 2165.815  89.48611 1.173987e-19\n",
              "ZN       1  5549.737 37166.56 2178.094  75.25764 5.713584e-17\n",
              "INDUS    1  9995.187 32721.11 2113.635 153.95488 4.900260e-31\n",
              "NOX      1  7800.126 34916.17 2146.489 112.59148 7.065042e-24\n",
              "RM       1 20654.416 22061.88 1914.185 471.84674 2.487229e-74\n",
              "AGE      1  6069.761 36646.53 2170.964  83.47746 1.569982e-18\n",
              "DIS      1  2668.247 40048.05 2215.877  33.57957 1.206612e-08\n",
              "RAD      1  6221.141 36495.15 2168.869  85.91428 5.465933e-19\n",
              "TAX      1  9377.334 33338.96 2123.100 141.76136 5.637734e-29\n",
              "PTRATIO  1 11014.282 31702.01 2097.625 175.10554 1.609509e-34\n",
              "B        1  4749.886 37966.41 2188.868  63.05423 1.318113e-14\n",
              "LSTAT    1 23243.914 19472.38 1851.009 601.61787 5.081103e-88"
            ]
          },
          "metadata": {}
        }
      ]
    },
    {
      "cell_type": "markdown",
      "source": [
        "The selection criterion that I will be using is the F value. In this scenario, LSTAT has the biggest F value therefore that will be the first predictor to be added to the modlel."
      ],
      "metadata": {
        "id": "NgsNP5b8vQu4"
      }
    },
    {
      "cell_type": "code",
      "source": [
        "mod1 <- update(mod0, formula = .~. + LSTAT)\n",
        "summary(mod1)"
      ],
      "metadata": {
        "colab": {
          "base_uri": "https://localhost:8080/",
          "height": 329
        },
        "id": "jIRN48wBjoqP",
        "outputId": "1aed39cf-c74a-4dcb-f4b3-f3b08044c7e9"
      },
      "execution_count": 4,
      "outputs": [
        {
          "output_type": "display_data",
          "data": {
            "text/plain": [
              "\n",
              "Call:\n",
              "lm(formula = MEDV ~ LSTAT, data = boston)\n",
              "\n",
              "Residuals:\n",
              "    Min      1Q  Median      3Q     Max \n",
              "-15.168  -3.990  -1.318   2.034  24.500 \n",
              "\n",
              "Coefficients:\n",
              "            Estimate Std. Error t value Pr(>|t|)    \n",
              "(Intercept) 34.55384    0.56263   61.41   <2e-16 ***\n",
              "LSTAT       -0.95005    0.03873  -24.53   <2e-16 ***\n",
              "---\n",
              "Signif. codes:  0 ‘***’ 0.001 ‘**’ 0.01 ‘*’ 0.05 ‘.’ 0.1 ‘ ’ 1\n",
              "\n",
              "Residual standard error: 6.216 on 504 degrees of freedom\n",
              "Multiple R-squared:  0.5441,\tAdjusted R-squared:  0.5432 \n",
              "F-statistic: 601.6 on 1 and 504 DF,  p-value: < 2.2e-16\n"
            ]
          },
          "metadata": {}
        }
      ]
    },
    {
      "cell_type": "code",
      "source": [
        "add1(mod1, scope = .~. + CRIM + ZN + INDUS + NOX + RM + AGE + DIS + RAD + TAX + PTRATIO + B, test = \"F\")\n",
        "mod2 <- update(mod1, formula = .~. + RM)\n",
        "summary(mod2)"
      ],
      "metadata": {
        "colab": {
          "base_uri": "https://localhost:8080/",
          "height": 804
        },
        "id": "4yKgntyejwJO",
        "outputId": "df5c7e5b-be40-4d0d-ecbb-3a686e467809"
      },
      "execution_count": 5,
      "outputs": [
        {
          "output_type": "display_data",
          "data": {
            "text/html": [
              "<table class=\"dataframe\">\n",
              "<caption>A anova: 12 × 6</caption>\n",
              "<thead>\n",
              "\t<tr><th></th><th scope=col>Df</th><th scope=col>Sum of Sq</th><th scope=col>RSS</th><th scope=col>AIC</th><th scope=col>F value</th><th scope=col>Pr(&gt;F)</th></tr>\n",
              "\t<tr><th></th><th scope=col>&lt;dbl&gt;</th><th scope=col>&lt;dbl&gt;</th><th scope=col>&lt;dbl&gt;</th><th scope=col>&lt;dbl&gt;</th><th scope=col>&lt;dbl&gt;</th><th scope=col>&lt;dbl&gt;</th></tr>\n",
              "</thead>\n",
              "<tbody>\n",
              "\t<tr><th scope=row>&lt;none&gt;</th><td>NA</td><td>         NA</td><td>19472.38</td><td>1851.009</td><td>         NA</td><td>          NA</td></tr>\n",
              "\t<tr><th scope=row>CRIM</th><td> 1</td><td> 146.941784</td><td>19325.44</td><td>1849.176</td><td>  3.8245814</td><td>5.105917e-02</td></tr>\n",
              "\t<tr><th scope=row>ZN</th><td> 1</td><td> 160.323030</td><td>19312.06</td><td>1848.826</td><td>  4.1757581</td><td>4.152669e-02</td></tr>\n",
              "\t<tr><th scope=row>INDUS</th><td> 1</td><td>  98.737987</td><td>19373.64</td><td>1850.437</td><td>  2.5635450</td><td>1.099809e-01</td></tr>\n",
              "\t<tr><th scope=row>NOX</th><td> 1</td><td>   4.796151</td><td>19467.59</td><td>1852.885</td><td>  0.1239221</td><td>7.249664e-01</td></tr>\n",
              "\t<tr><th scope=row>RM</th><td> 1</td><td>4033.072217</td><td>15439.31</td><td>1735.577</td><td>131.3941769</td><td>3.472258e-27</td></tr>\n",
              "\t<tr><th scope=row>AGE</th><td> 1</td><td> 304.252810</td><td>19168.13</td><td>1845.041</td><td>  7.9840430</td><td>4.906776e-03</td></tr>\n",
              "\t<tr><th scope=row>DIS</th><td> 1</td><td> 772.401520</td><td>18699.98</td><td>1832.529</td><td> 20.7763841</td><td>6.487838e-06</td></tr>\n",
              "\t<tr><th scope=row>RAD</th><td> 1</td><td>  25.097614</td><td>19447.28</td><td>1852.357</td><td>  0.6491446</td><td>4.207994e-01</td></tr>\n",
              "\t<tr><th scope=row>TAX</th><td> 1</td><td> 274.404305</td><td>19197.98</td><td>1845.828</td><td>  7.1895786</td><td>7.573724e-03</td></tr>\n",
              "\t<tr><th scope=row>PTRATIO</th><td> 1</td><td>2670.123767</td><td>16802.26</td><td>1778.382</td><td> 79.9340352</td><td>7.382385e-18</td></tr>\n",
              "\t<tr><th scope=row>B</th><td> 1</td><td> 198.349263</td><td>19274.03</td><td>1847.829</td><td>  5.1763782</td><td>2.331593e-02</td></tr>\n",
              "</tbody>\n",
              "</table>\n"
            ],
            "text/markdown": "\nA anova: 12 × 6\n\n| <!--/--> | Df &lt;dbl&gt; | Sum of Sq &lt;dbl&gt; | RSS &lt;dbl&gt; | AIC &lt;dbl&gt; | F value &lt;dbl&gt; | Pr(&gt;F) &lt;dbl&gt; |\n|---|---|---|---|---|---|---|\n| &lt;none&gt; | NA |          NA | 19472.38 | 1851.009 |          NA |           NA |\n| CRIM |  1 |  146.941784 | 19325.44 | 1849.176 |   3.8245814 | 5.105917e-02 |\n| ZN |  1 |  160.323030 | 19312.06 | 1848.826 |   4.1757581 | 4.152669e-02 |\n| INDUS |  1 |   98.737987 | 19373.64 | 1850.437 |   2.5635450 | 1.099809e-01 |\n| NOX |  1 |    4.796151 | 19467.59 | 1852.885 |   0.1239221 | 7.249664e-01 |\n| RM |  1 | 4033.072217 | 15439.31 | 1735.577 | 131.3941769 | 3.472258e-27 |\n| AGE |  1 |  304.252810 | 19168.13 | 1845.041 |   7.9840430 | 4.906776e-03 |\n| DIS |  1 |  772.401520 | 18699.98 | 1832.529 |  20.7763841 | 6.487838e-06 |\n| RAD |  1 |   25.097614 | 19447.28 | 1852.357 |   0.6491446 | 4.207994e-01 |\n| TAX |  1 |  274.404305 | 19197.98 | 1845.828 |   7.1895786 | 7.573724e-03 |\n| PTRATIO |  1 | 2670.123767 | 16802.26 | 1778.382 |  79.9340352 | 7.382385e-18 |\n| B |  1 |  198.349263 | 19274.03 | 1847.829 |   5.1763782 | 2.331593e-02 |\n\n",
            "text/latex": "A anova: 12 × 6\n\\begin{tabular}{r|llllll}\n  & Df & Sum of Sq & RSS & AIC & F value & Pr(>F)\\\\\n  & <dbl> & <dbl> & <dbl> & <dbl> & <dbl> & <dbl>\\\\\n\\hline\n\t<none> & NA &          NA & 19472.38 & 1851.009 &          NA &           NA\\\\\n\tCRIM &  1 &  146.941784 & 19325.44 & 1849.176 &   3.8245814 & 5.105917e-02\\\\\n\tZN &  1 &  160.323030 & 19312.06 & 1848.826 &   4.1757581 & 4.152669e-02\\\\\n\tINDUS &  1 &   98.737987 & 19373.64 & 1850.437 &   2.5635450 & 1.099809e-01\\\\\n\tNOX &  1 &    4.796151 & 19467.59 & 1852.885 &   0.1239221 & 7.249664e-01\\\\\n\tRM &  1 & 4033.072217 & 15439.31 & 1735.577 & 131.3941769 & 3.472258e-27\\\\\n\tAGE &  1 &  304.252810 & 19168.13 & 1845.041 &   7.9840430 & 4.906776e-03\\\\\n\tDIS &  1 &  772.401520 & 18699.98 & 1832.529 &  20.7763841 & 6.487838e-06\\\\\n\tRAD &  1 &   25.097614 & 19447.28 & 1852.357 &   0.6491446 & 4.207994e-01\\\\\n\tTAX &  1 &  274.404305 & 19197.98 & 1845.828 &   7.1895786 & 7.573724e-03\\\\\n\tPTRATIO &  1 & 2670.123767 & 16802.26 & 1778.382 &  79.9340352 & 7.382385e-18\\\\\n\tB &  1 &  198.349263 & 19274.03 & 1847.829 &   5.1763782 & 2.331593e-02\\\\\n\\end{tabular}\n",
            "text/plain": [
              "        Df Sum of Sq   RSS      AIC      F value     Pr(>F)      \n",
              "<none>  NA          NA 19472.38 1851.009          NA           NA\n",
              "CRIM     1  146.941784 19325.44 1849.176   3.8245814 5.105917e-02\n",
              "ZN       1  160.323030 19312.06 1848.826   4.1757581 4.152669e-02\n",
              "INDUS    1   98.737987 19373.64 1850.437   2.5635450 1.099809e-01\n",
              "NOX      1    4.796151 19467.59 1852.885   0.1239221 7.249664e-01\n",
              "RM       1 4033.072217 15439.31 1735.577 131.3941769 3.472258e-27\n",
              "AGE      1  304.252810 19168.13 1845.041   7.9840430 4.906776e-03\n",
              "DIS      1  772.401520 18699.98 1832.529  20.7763841 6.487838e-06\n",
              "RAD      1   25.097614 19447.28 1852.357   0.6491446 4.207994e-01\n",
              "TAX      1  274.404305 19197.98 1845.828   7.1895786 7.573724e-03\n",
              "PTRATIO  1 2670.123767 16802.26 1778.382  79.9340352 7.382385e-18\n",
              "B        1  198.349263 19274.03 1847.829   5.1763782 2.331593e-02"
            ]
          },
          "metadata": {}
        },
        {
          "output_type": "display_data",
          "data": {
            "text/plain": [
              "\n",
              "Call:\n",
              "lm(formula = MEDV ~ LSTAT + RM, data = boston)\n",
              "\n",
              "Residuals:\n",
              "    Min      1Q  Median      3Q     Max \n",
              "-18.076  -3.516  -1.010   1.909  28.131 \n",
              "\n",
              "Coefficients:\n",
              "            Estimate Std. Error t value Pr(>|t|)    \n",
              "(Intercept) -1.35827    3.17283  -0.428    0.669    \n",
              "LSTAT       -0.64236    0.04373 -14.689   <2e-16 ***\n",
              "RM           5.09479    0.44447  11.463   <2e-16 ***\n",
              "---\n",
              "Signif. codes:  0 ‘***’ 0.001 ‘**’ 0.01 ‘*’ 0.05 ‘.’ 0.1 ‘ ’ 1\n",
              "\n",
              "Residual standard error: 5.54 on 503 degrees of freedom\n",
              "Multiple R-squared:  0.6386,\tAdjusted R-squared:  0.6371 \n",
              "F-statistic: 444.3 on 2 and 503 DF,  p-value: < 2.2e-16\n"
            ]
          },
          "metadata": {}
        }
      ]
    },
    {
      "cell_type": "code",
      "source": [
        "add1(mod2, scope = .~. + CRIM + ZN + INDUS + NOX + AGE + DIS + RAD + TAX + PTRATIO + B, test = \"F\")\n",
        "mod3 <- update(mod2, formula = .~. + PTRATIO)\n",
        "summary(mod3)"
      ],
      "metadata": {
        "colab": {
          "base_uri": "https://localhost:8080/",
          "height": 790
        },
        "id": "u5t_J-e9j1o4",
        "outputId": "f236e780-ecad-475f-aa73-80042a17ca96"
      },
      "execution_count": 6,
      "outputs": [
        {
          "output_type": "display_data",
          "data": {
            "text/html": [
              "<table class=\"dataframe\">\n",
              "<caption>A anova: 11 × 6</caption>\n",
              "<thead>\n",
              "\t<tr><th></th><th scope=col>Df</th><th scope=col>Sum of Sq</th><th scope=col>RSS</th><th scope=col>AIC</th><th scope=col>F value</th><th scope=col>Pr(&gt;F)</th></tr>\n",
              "\t<tr><th></th><th scope=col>&lt;dbl&gt;</th><th scope=col>&lt;dbl&gt;</th><th scope=col>&lt;dbl&gt;</th><th scope=col>&lt;dbl&gt;</th><th scope=col>&lt;dbl&gt;</th><th scope=col>&lt;dbl&gt;</th></tr>\n",
              "</thead>\n",
              "<tbody>\n",
              "\t<tr><th scope=row>&lt;none&gt;</th><td>NA</td><td>        NA</td><td>15439.31</td><td>1735.577</td><td>        NA</td><td>          NA</td></tr>\n",
              "\t<tr><th scope=row>CRIM</th><td> 1</td><td> 311.42082</td><td>15127.89</td><td>1727.266</td><td>10.3341091</td><td>1.390003e-03</td></tr>\n",
              "\t<tr><th scope=row>ZN</th><td> 1</td><td>  56.55624</td><td>15382.75</td><td>1735.720</td><td> 1.8456535</td><td>1.748999e-01</td></tr>\n",
              "\t<tr><th scope=row>INDUS</th><td> 1</td><td>  61.08887</td><td>15378.22</td><td>1735.570</td><td> 1.9941588</td><td>1.585263e-01</td></tr>\n",
              "\t<tr><th scope=row>NOX</th><td> 1</td><td>  14.89818</td><td>15424.41</td><td>1737.088</td><td> 0.4848735</td><td>4.865454e-01</td></tr>\n",
              "\t<tr><th scope=row>AGE</th><td> 1</td><td>  20.18413</td><td>15419.13</td><td>1736.915</td><td> 0.6571341</td><td>4.179577e-01</td></tr>\n",
              "\t<tr><th scope=row>DIS</th><td> 1</td><td> 351.15093</td><td>15088.16</td><td>1725.935</td><td>11.6831866</td><td>6.819414e-04</td></tr>\n",
              "\t<tr><th scope=row>RAD</th><td> 1</td><td> 180.45295</td><td>15258.86</td><td>1731.628</td><td> 5.9367086</td><td>1.517523e-02</td></tr>\n",
              "\t<tr><th scope=row>TAX</th><td> 1</td><td> 425.16215</td><td>15014.15</td><td>1723.447</td><td>14.2153531</td><td>1.824338e-04</td></tr>\n",
              "\t<tr><th scope=row>PTRATIO</th><td> 1</td><td>1711.32389</td><td>13727.99</td><td>1678.131</td><td>62.5790727</td><td>1.644660e-14</td></tr>\n",
              "\t<tr><th scope=row>B</th><td> 1</td><td> 512.30644</td><td>14927.00</td><td>1720.502</td><td>17.2290335</td><td>3.892387e-05</td></tr>\n",
              "</tbody>\n",
              "</table>\n"
            ],
            "text/markdown": "\nA anova: 11 × 6\n\n| <!--/--> | Df &lt;dbl&gt; | Sum of Sq &lt;dbl&gt; | RSS &lt;dbl&gt; | AIC &lt;dbl&gt; | F value &lt;dbl&gt; | Pr(&gt;F) &lt;dbl&gt; |\n|---|---|---|---|---|---|---|\n| &lt;none&gt; | NA |         NA | 15439.31 | 1735.577 |         NA |           NA |\n| CRIM |  1 |  311.42082 | 15127.89 | 1727.266 | 10.3341091 | 1.390003e-03 |\n| ZN |  1 |   56.55624 | 15382.75 | 1735.720 |  1.8456535 | 1.748999e-01 |\n| INDUS |  1 |   61.08887 | 15378.22 | 1735.570 |  1.9941588 | 1.585263e-01 |\n| NOX |  1 |   14.89818 | 15424.41 | 1737.088 |  0.4848735 | 4.865454e-01 |\n| AGE |  1 |   20.18413 | 15419.13 | 1736.915 |  0.6571341 | 4.179577e-01 |\n| DIS |  1 |  351.15093 | 15088.16 | 1725.935 | 11.6831866 | 6.819414e-04 |\n| RAD |  1 |  180.45295 | 15258.86 | 1731.628 |  5.9367086 | 1.517523e-02 |\n| TAX |  1 |  425.16215 | 15014.15 | 1723.447 | 14.2153531 | 1.824338e-04 |\n| PTRATIO |  1 | 1711.32389 | 13727.99 | 1678.131 | 62.5790727 | 1.644660e-14 |\n| B |  1 |  512.30644 | 14927.00 | 1720.502 | 17.2290335 | 3.892387e-05 |\n\n",
            "text/latex": "A anova: 11 × 6\n\\begin{tabular}{r|llllll}\n  & Df & Sum of Sq & RSS & AIC & F value & Pr(>F)\\\\\n  & <dbl> & <dbl> & <dbl> & <dbl> & <dbl> & <dbl>\\\\\n\\hline\n\t<none> & NA &         NA & 15439.31 & 1735.577 &         NA &           NA\\\\\n\tCRIM &  1 &  311.42082 & 15127.89 & 1727.266 & 10.3341091 & 1.390003e-03\\\\\n\tZN &  1 &   56.55624 & 15382.75 & 1735.720 &  1.8456535 & 1.748999e-01\\\\\n\tINDUS &  1 &   61.08887 & 15378.22 & 1735.570 &  1.9941588 & 1.585263e-01\\\\\n\tNOX &  1 &   14.89818 & 15424.41 & 1737.088 &  0.4848735 & 4.865454e-01\\\\\n\tAGE &  1 &   20.18413 & 15419.13 & 1736.915 &  0.6571341 & 4.179577e-01\\\\\n\tDIS &  1 &  351.15093 & 15088.16 & 1725.935 & 11.6831866 & 6.819414e-04\\\\\n\tRAD &  1 &  180.45295 & 15258.86 & 1731.628 &  5.9367086 & 1.517523e-02\\\\\n\tTAX &  1 &  425.16215 & 15014.15 & 1723.447 & 14.2153531 & 1.824338e-04\\\\\n\tPTRATIO &  1 & 1711.32389 & 13727.99 & 1678.131 & 62.5790727 & 1.644660e-14\\\\\n\tB &  1 &  512.30644 & 14927.00 & 1720.502 & 17.2290335 & 3.892387e-05\\\\\n\\end{tabular}\n",
            "text/plain": [
              "        Df Sum of Sq  RSS      AIC      F value    Pr(>F)      \n",
              "<none>  NA         NA 15439.31 1735.577         NA           NA\n",
              "CRIM     1  311.42082 15127.89 1727.266 10.3341091 1.390003e-03\n",
              "ZN       1   56.55624 15382.75 1735.720  1.8456535 1.748999e-01\n",
              "INDUS    1   61.08887 15378.22 1735.570  1.9941588 1.585263e-01\n",
              "NOX      1   14.89818 15424.41 1737.088  0.4848735 4.865454e-01\n",
              "AGE      1   20.18413 15419.13 1736.915  0.6571341 4.179577e-01\n",
              "DIS      1  351.15093 15088.16 1725.935 11.6831866 6.819414e-04\n",
              "RAD      1  180.45295 15258.86 1731.628  5.9367086 1.517523e-02\n",
              "TAX      1  425.16215 15014.15 1723.447 14.2153531 1.824338e-04\n",
              "PTRATIO  1 1711.32389 13727.99 1678.131 62.5790727 1.644660e-14\n",
              "B        1  512.30644 14927.00 1720.502 17.2290335 3.892387e-05"
            ]
          },
          "metadata": {}
        },
        {
          "output_type": "display_data",
          "data": {
            "text/plain": [
              "\n",
              "Call:\n",
              "lm(formula = MEDV ~ LSTAT + RM + PTRATIO, data = boston)\n",
              "\n",
              "Residuals:\n",
              "     Min       1Q   Median       3Q      Max \n",
              "-14.4871  -3.1047  -0.7976   1.8129  29.6559 \n",
              "\n",
              "Coefficients:\n",
              "            Estimate Std. Error t value Pr(>|t|)    \n",
              "(Intercept) 18.56711    3.91320   4.745 2.73e-06 ***\n",
              "LSTAT       -0.57181    0.04223 -13.540  < 2e-16 ***\n",
              "RM           4.51542    0.42587  10.603  < 2e-16 ***\n",
              "PTRATIO     -0.93072    0.11765  -7.911 1.64e-14 ***\n",
              "---\n",
              "Signif. codes:  0 ‘***’ 0.001 ‘**’ 0.01 ‘*’ 0.05 ‘.’ 0.1 ‘ ’ 1\n",
              "\n",
              "Residual standard error: 5.229 on 502 degrees of freedom\n",
              "Multiple R-squared:  0.6786,\tAdjusted R-squared:  0.6767 \n",
              "F-statistic: 353.3 on 3 and 502 DF,  p-value: < 2.2e-16\n"
            ]
          },
          "metadata": {}
        }
      ]
    },
    {
      "cell_type": "code",
      "source": [
        "add1(mod3, scope = .~. + CRIM + ZN + INDUS + NOX + AGE + DIS + RAD + TAX + B, test = \"F\")\n",
        "mod4 <- update(mod3, formula = .~. + DIS)\n",
        "summary(mod4)"
      ],
      "metadata": {
        "colab": {
          "base_uri": "https://localhost:8080/",
          "height": 776
        },
        "id": "zZWq9g41kFJj",
        "outputId": "7a524acf-48cb-4152-9447-c48b44ea104b"
      },
      "execution_count": 7,
      "outputs": [
        {
          "output_type": "display_data",
          "data": {
            "text/html": [
              "<table class=\"dataframe\">\n",
              "<caption>A anova: 10 × 6</caption>\n",
              "<thead>\n",
              "\t<tr><th></th><th scope=col>Df</th><th scope=col>Sum of Sq</th><th scope=col>RSS</th><th scope=col>AIC</th><th scope=col>F value</th><th scope=col>Pr(&gt;F)</th></tr>\n",
              "\t<tr><th></th><th scope=col>&lt;dbl&gt;</th><th scope=col>&lt;dbl&gt;</th><th scope=col>&lt;dbl&gt;</th><th scope=col>&lt;dbl&gt;</th><th scope=col>&lt;dbl&gt;</th><th scope=col>&lt;dbl&gt;</th></tr>\n",
              "</thead>\n",
              "<tbody>\n",
              "\t<tr><th scope=row>&lt;none&gt;</th><td>NA</td><td>         NA</td><td>13727.99</td><td>1678.131</td><td>         NA</td><td>          NA</td></tr>\n",
              "\t<tr><th scope=row>CRIM</th><td> 1</td><td>122.5183456</td><td>13605.47</td><td>1675.595</td><td> 4.51154608</td><td>3.415602e-02</td></tr>\n",
              "\t<tr><th scope=row>ZN</th><td> 1</td><td> 14.9638412</td><td>13713.02</td><td>1679.580</td><td> 0.54669822</td><td>4.600162e-01</td></tr>\n",
              "\t<tr><th scope=row>INDUS</th><td> 1</td><td>  0.8255101</td><td>13727.16</td><td>1680.101</td><td> 0.03012863</td><td>8.622688e-01</td></tr>\n",
              "\t<tr><th scope=row>NOX</th><td> 1</td><td> 24.8141695</td><td>13703.17</td><td>1679.216</td><td> 0.90722788</td><td>3.413103e-01</td></tr>\n",
              "\t<tr><th scope=row>AGE</th><td> 1</td><td> 66.2385591</td><td>13661.75</td><td>1677.684</td><td> 2.42908310</td><td>1.197340e-01</td></tr>\n",
              "\t<tr><th scope=row>DIS</th><td> 1</td><td>499.0776112</td><td>13228.91</td><td>1661.393</td><td>18.90087140</td><td>1.668467e-05</td></tr>\n",
              "\t<tr><th scope=row>RAD</th><td> 1</td><td>  6.0743021</td><td>13721.91</td><td>1679.908</td><td> 0.22177854</td><td>6.378931e-01</td></tr>\n",
              "\t<tr><th scope=row>TAX</th><td> 1</td><td> 44.3602000</td><td>13683.63</td><td>1678.494</td><td> 1.62416465</td><td>2.031029e-01</td></tr>\n",
              "\t<tr><th scope=row>B</th><td> 1</td><td>389.6836847</td><td>13338.30</td><td>1665.560</td><td>14.63691041</td><td>1.467997e-04</td></tr>\n",
              "</tbody>\n",
              "</table>\n"
            ],
            "text/markdown": "\nA anova: 10 × 6\n\n| <!--/--> | Df &lt;dbl&gt; | Sum of Sq &lt;dbl&gt; | RSS &lt;dbl&gt; | AIC &lt;dbl&gt; | F value &lt;dbl&gt; | Pr(&gt;F) &lt;dbl&gt; |\n|---|---|---|---|---|---|---|\n| &lt;none&gt; | NA |          NA | 13727.99 | 1678.131 |          NA |           NA |\n| CRIM |  1 | 122.5183456 | 13605.47 | 1675.595 |  4.51154608 | 3.415602e-02 |\n| ZN |  1 |  14.9638412 | 13713.02 | 1679.580 |  0.54669822 | 4.600162e-01 |\n| INDUS |  1 |   0.8255101 | 13727.16 | 1680.101 |  0.03012863 | 8.622688e-01 |\n| NOX |  1 |  24.8141695 | 13703.17 | 1679.216 |  0.90722788 | 3.413103e-01 |\n| AGE |  1 |  66.2385591 | 13661.75 | 1677.684 |  2.42908310 | 1.197340e-01 |\n| DIS |  1 | 499.0776112 | 13228.91 | 1661.393 | 18.90087140 | 1.668467e-05 |\n| RAD |  1 |   6.0743021 | 13721.91 | 1679.908 |  0.22177854 | 6.378931e-01 |\n| TAX |  1 |  44.3602000 | 13683.63 | 1678.494 |  1.62416465 | 2.031029e-01 |\n| B |  1 | 389.6836847 | 13338.30 | 1665.560 | 14.63691041 | 1.467997e-04 |\n\n",
            "text/latex": "A anova: 10 × 6\n\\begin{tabular}{r|llllll}\n  & Df & Sum of Sq & RSS & AIC & F value & Pr(>F)\\\\\n  & <dbl> & <dbl> & <dbl> & <dbl> & <dbl> & <dbl>\\\\\n\\hline\n\t<none> & NA &          NA & 13727.99 & 1678.131 &          NA &           NA\\\\\n\tCRIM &  1 & 122.5183456 & 13605.47 & 1675.595 &  4.51154608 & 3.415602e-02\\\\\n\tZN &  1 &  14.9638412 & 13713.02 & 1679.580 &  0.54669822 & 4.600162e-01\\\\\n\tINDUS &  1 &   0.8255101 & 13727.16 & 1680.101 &  0.03012863 & 8.622688e-01\\\\\n\tNOX &  1 &  24.8141695 & 13703.17 & 1679.216 &  0.90722788 & 3.413103e-01\\\\\n\tAGE &  1 &  66.2385591 & 13661.75 & 1677.684 &  2.42908310 & 1.197340e-01\\\\\n\tDIS &  1 & 499.0776112 & 13228.91 & 1661.393 & 18.90087140 & 1.668467e-05\\\\\n\tRAD &  1 &   6.0743021 & 13721.91 & 1679.908 &  0.22177854 & 6.378931e-01\\\\\n\tTAX &  1 &  44.3602000 & 13683.63 & 1678.494 &  1.62416465 & 2.031029e-01\\\\\n\tB &  1 & 389.6836847 & 13338.30 & 1665.560 & 14.63691041 & 1.467997e-04\\\\\n\\end{tabular}\n",
            "text/plain": [
              "       Df Sum of Sq   RSS      AIC      F value     Pr(>F)      \n",
              "<none> NA          NA 13727.99 1678.131          NA           NA\n",
              "CRIM    1 122.5183456 13605.47 1675.595  4.51154608 3.415602e-02\n",
              "ZN      1  14.9638412 13713.02 1679.580  0.54669822 4.600162e-01\n",
              "INDUS   1   0.8255101 13727.16 1680.101  0.03012863 8.622688e-01\n",
              "NOX     1  24.8141695 13703.17 1679.216  0.90722788 3.413103e-01\n",
              "AGE     1  66.2385591 13661.75 1677.684  2.42908310 1.197340e-01\n",
              "DIS     1 499.0776112 13228.91 1661.393 18.90087140 1.668467e-05\n",
              "RAD     1   6.0743021 13721.91 1679.908  0.22177854 6.378931e-01\n",
              "TAX     1  44.3602000 13683.63 1678.494  1.62416465 2.031029e-01\n",
              "B       1 389.6836847 13338.30 1665.560 14.63691041 1.467997e-04"
            ]
          },
          "metadata": {}
        },
        {
          "output_type": "display_data",
          "data": {
            "text/plain": [
              "\n",
              "Call:\n",
              "lm(formula = MEDV ~ LSTAT + RM + PTRATIO + DIS, data = boston)\n",
              "\n",
              "Residuals:\n",
              "     Min       1Q   Median       3Q      Max \n",
              "-15.4172  -3.0971  -0.6397   1.8727  27.1088 \n",
              "\n",
              "Coefficients:\n",
              "            Estimate Std. Error t value Pr(>|t|)    \n",
              "(Intercept) 24.47136    4.07802   6.001 3.77e-09 ***\n",
              "LSTAT       -0.66544    0.04675 -14.233  < 2e-16 ***\n",
              "RM           4.22379    0.42382   9.966  < 2e-16 ***\n",
              "PTRATIO     -0.97365    0.11603  -8.391 4.94e-16 ***\n",
              "DIS         -0.55193    0.12695  -4.348 1.67e-05 ***\n",
              "---\n",
              "Signif. codes:  0 ‘***’ 0.001 ‘**’ 0.01 ‘*’ 0.05 ‘.’ 0.1 ‘ ’ 1\n",
              "\n",
              "Residual standard error: 5.139 on 501 degrees of freedom\n",
              "Multiple R-squared:  0.6903,\tAdjusted R-squared:  0.6878 \n",
              "F-statistic: 279.2 on 4 and 501 DF,  p-value: < 2.2e-16\n"
            ]
          },
          "metadata": {}
        }
      ]
    },
    {
      "cell_type": "code",
      "source": [
        "add1(mod4, scope = .~. + CRIM + ZN + INDUS + NOX + AGE + RAD + TAX + B, test = \"F\")\n",
        "mod5 <- update(mod4, formula = .~. + NOX)\n",
        "summary(mod5)"
      ],
      "metadata": {
        "colab": {
          "base_uri": "https://localhost:8080/",
          "height": 762
        },
        "id": "biAnOIgjkJua",
        "outputId": "86c017e5-2a33-4075-c726-5004170c2be0"
      },
      "execution_count": 8,
      "outputs": [
        {
          "output_type": "display_data",
          "data": {
            "text/html": [
              "<table class=\"dataframe\">\n",
              "<caption>A anova: 9 × 6</caption>\n",
              "<thead>\n",
              "\t<tr><th></th><th scope=col>Df</th><th scope=col>Sum of Sq</th><th scope=col>RSS</th><th scope=col>AIC</th><th scope=col>F value</th><th scope=col>Pr(&gt;F)</th></tr>\n",
              "\t<tr><th></th><th scope=col>&lt;dbl&gt;</th><th scope=col>&lt;dbl&gt;</th><th scope=col>&lt;dbl&gt;</th><th scope=col>&lt;dbl&gt;</th><th scope=col>&lt;dbl&gt;</th><th scope=col>&lt;dbl&gt;</th></tr>\n",
              "</thead>\n",
              "<tbody>\n",
              "\t<tr><th scope=row>&lt;none&gt;</th><td>NA</td><td>       NA</td><td>13228.91</td><td>1661.393</td><td>       NA</td><td>          NA</td></tr>\n",
              "\t<tr><th scope=row>CRIM</th><td> 1</td><td>233.54159</td><td>12995.37</td><td>1654.381</td><td> 8.985572</td><td>2.856556e-03</td></tr>\n",
              "\t<tr><th scope=row>ZN</th><td> 1</td><td>144.80753</td><td>13084.10</td><td>1657.824</td><td> 5.533721</td><td>1.904011e-02</td></tr>\n",
              "\t<tr><th scope=row>INDUS</th><td> 1</td><td>242.64691</td><td>12986.26</td><td>1654.026</td><td> 9.342447</td><td>2.358814e-03</td></tr>\n",
              "\t<tr><th scope=row>NOX</th><td> 1</td><td>759.56355</td><td>12469.34</td><td>1633.473</td><td>30.457237</td><td>5.488148e-08</td></tr>\n",
              "\t<tr><th scope=row>AGE</th><td> 1</td><td> 61.36050</td><td>13167.55</td><td>1661.041</td><td> 2.329990</td><td>1.275350e-01</td></tr>\n",
              "\t<tr><th scope=row>RAD</th><td> 1</td><td> 22.40035</td><td>13206.51</td><td>1662.536</td><td> 0.848080</td><td>3.575402e-01</td></tr>\n",
              "\t<tr><th scope=row>TAX</th><td> 1</td><td>240.33789</td><td>12988.57</td><td>1654.116</td><td> 9.251900</td><td>2.476067e-03</td></tr>\n",
              "\t<tr><th scope=row>B</th><td> 1</td><td>502.64166</td><td>12726.27</td><td>1643.793</td><td>19.748199</td><td>1.088828e-05</td></tr>\n",
              "</tbody>\n",
              "</table>\n"
            ],
            "text/markdown": "\nA anova: 9 × 6\n\n| <!--/--> | Df &lt;dbl&gt; | Sum of Sq &lt;dbl&gt; | RSS &lt;dbl&gt; | AIC &lt;dbl&gt; | F value &lt;dbl&gt; | Pr(&gt;F) &lt;dbl&gt; |\n|---|---|---|---|---|---|---|\n| &lt;none&gt; | NA |        NA | 13228.91 | 1661.393 |        NA |           NA |\n| CRIM |  1 | 233.54159 | 12995.37 | 1654.381 |  8.985572 | 2.856556e-03 |\n| ZN |  1 | 144.80753 | 13084.10 | 1657.824 |  5.533721 | 1.904011e-02 |\n| INDUS |  1 | 242.64691 | 12986.26 | 1654.026 |  9.342447 | 2.358814e-03 |\n| NOX |  1 | 759.56355 | 12469.34 | 1633.473 | 30.457237 | 5.488148e-08 |\n| AGE |  1 |  61.36050 | 13167.55 | 1661.041 |  2.329990 | 1.275350e-01 |\n| RAD |  1 |  22.40035 | 13206.51 | 1662.536 |  0.848080 | 3.575402e-01 |\n| TAX |  1 | 240.33789 | 12988.57 | 1654.116 |  9.251900 | 2.476067e-03 |\n| B |  1 | 502.64166 | 12726.27 | 1643.793 | 19.748199 | 1.088828e-05 |\n\n",
            "text/latex": "A anova: 9 × 6\n\\begin{tabular}{r|llllll}\n  & Df & Sum of Sq & RSS & AIC & F value & Pr(>F)\\\\\n  & <dbl> & <dbl> & <dbl> & <dbl> & <dbl> & <dbl>\\\\\n\\hline\n\t<none> & NA &        NA & 13228.91 & 1661.393 &        NA &           NA\\\\\n\tCRIM &  1 & 233.54159 & 12995.37 & 1654.381 &  8.985572 & 2.856556e-03\\\\\n\tZN &  1 & 144.80753 & 13084.10 & 1657.824 &  5.533721 & 1.904011e-02\\\\\n\tINDUS &  1 & 242.64691 & 12986.26 & 1654.026 &  9.342447 & 2.358814e-03\\\\\n\tNOX &  1 & 759.56355 & 12469.34 & 1633.473 & 30.457237 & 5.488148e-08\\\\\n\tAGE &  1 &  61.36050 & 13167.55 & 1661.041 &  2.329990 & 1.275350e-01\\\\\n\tRAD &  1 &  22.40035 & 13206.51 & 1662.536 &  0.848080 & 3.575402e-01\\\\\n\tTAX &  1 & 240.33789 & 12988.57 & 1654.116 &  9.251900 & 2.476067e-03\\\\\n\tB &  1 & 502.64166 & 12726.27 & 1643.793 & 19.748199 & 1.088828e-05\\\\\n\\end{tabular}\n",
            "text/plain": [
              "       Df Sum of Sq RSS      AIC      F value   Pr(>F)      \n",
              "<none> NA        NA 13228.91 1661.393        NA           NA\n",
              "CRIM    1 233.54159 12995.37 1654.381  8.985572 2.856556e-03\n",
              "ZN      1 144.80753 13084.10 1657.824  5.533721 1.904011e-02\n",
              "INDUS   1 242.64691 12986.26 1654.026  9.342447 2.358814e-03\n",
              "NOX     1 759.56355 12469.34 1633.473 30.457237 5.488148e-08\n",
              "AGE     1  61.36050 13167.55 1661.041  2.329990 1.275350e-01\n",
              "RAD     1  22.40035 13206.51 1662.536  0.848080 3.575402e-01\n",
              "TAX     1 240.33789 12988.57 1654.116  9.251900 2.476067e-03\n",
              "B       1 502.64166 12726.27 1643.793 19.748199 1.088828e-05"
            ]
          },
          "metadata": {}
        },
        {
          "output_type": "display_data",
          "data": {
            "text/plain": [
              "\n",
              "Call:\n",
              "lm(formula = MEDV ~ LSTAT + RM + PTRATIO + DIS + NOX, data = boston)\n",
              "\n",
              "Residuals:\n",
              "     Min       1Q   Median       3Q      Max \n",
              "-12.7765  -3.0186  -0.6481   1.9752  27.7625 \n",
              "\n",
              "Coefficients:\n",
              "             Estimate Std. Error t value Pr(>|t|)    \n",
              "(Intercept)  37.49920    4.61295   8.129 3.43e-15 ***\n",
              "LSTAT        -0.58108    0.04794 -12.122  < 2e-16 ***\n",
              "RM            4.16331    0.41203  10.104  < 2e-16 ***\n",
              "PTRATIO      -1.04577    0.11352  -9.212  < 2e-16 ***\n",
              "DIS          -1.18466    0.16842  -7.034 6.64e-12 ***\n",
              "NOX         -17.99657    3.26095  -5.519 5.49e-08 ***\n",
              "---\n",
              "Signif. codes:  0 ‘***’ 0.001 ‘**’ 0.01 ‘*’ 0.05 ‘.’ 0.1 ‘ ’ 1\n",
              "\n",
              "Residual standard error: 4.994 on 500 degrees of freedom\n",
              "Multiple R-squared:  0.7081,\tAdjusted R-squared:  0.7052 \n",
              "F-statistic: 242.6 on 5 and 500 DF,  p-value: < 2.2e-16\n"
            ]
          },
          "metadata": {}
        }
      ]
    },
    {
      "cell_type": "code",
      "source": [
        "add1(mod5, scope = .~. + CRIM + ZN + INDUS + AGE + RAD + TAX + B, test = \"F\")\n",
        "mod6 <- update(mod5, formula = .~. + B)\n",
        "summary(mod6)"
      ],
      "metadata": {
        "colab": {
          "base_uri": "https://localhost:8080/",
          "height": 748
        },
        "id": "q0KgbUf7kS3z",
        "outputId": "6f27c328-1b3a-4061-8cd4-fe5d82cd0d59"
      },
      "execution_count": 9,
      "outputs": [
        {
          "output_type": "display_data",
          "data": {
            "text/html": [
              "<table class=\"dataframe\">\n",
              "<caption>A anova: 8 × 6</caption>\n",
              "<thead>\n",
              "\t<tr><th></th><th scope=col>Df</th><th scope=col>Sum of Sq</th><th scope=col>RSS</th><th scope=col>AIC</th><th scope=col>F value</th><th scope=col>Pr(&gt;F)</th></tr>\n",
              "\t<tr><th></th><th scope=col>&lt;dbl&gt;</th><th scope=col>&lt;dbl&gt;</th><th scope=col>&lt;dbl&gt;</th><th scope=col>&lt;dbl&gt;</th><th scope=col>&lt;dbl&gt;</th><th scope=col>&lt;dbl&gt;</th></tr>\n",
              "</thead>\n",
              "<tbody>\n",
              "\t<tr><th scope=row>&lt;none&gt;</th><td>NA</td><td>         NA</td><td>12469.34</td><td>1633.473</td><td>          NA</td><td>          NA</td></tr>\n",
              "\t<tr><th scope=row>CRIM</th><td> 1</td><td>141.4332488</td><td>12327.91</td><td>1629.701</td><td> 5.724829755</td><td>0.0170954897</td></tr>\n",
              "\t<tr><th scope=row>ZN</th><td> 1</td><td>151.7132046</td><td>12317.63</td><td>1629.279</td><td> 6.146059209</td><td>0.0134997960</td></tr>\n",
              "\t<tr><th scope=row>INDUS</th><td> 1</td><td> 17.1043214</td><td>12452.24</td><td>1634.778</td><td> 0.685423387</td><td>0.4081212016</td></tr>\n",
              "\t<tr><th scope=row>AGE</th><td> 1</td><td>  0.2453368</td><td>12469.10</td><td>1635.463</td><td> 0.009818115</td><td>0.9211094589</td></tr>\n",
              "\t<tr><th scope=row>RAD</th><td> 1</td><td> 53.4806021</td><td>12415.86</td><td>1633.298</td><td> 2.149413156</td><td>0.1432542522</td></tr>\n",
              "\t<tr><th scope=row>TAX</th><td> 1</td><td> 10.4987989</td><td>12458.85</td><td>1635.047</td><td> 0.420496482</td><td>0.5169877009</td></tr>\n",
              "\t<tr><th scope=row>B</th><td> 1</td><td>311.8342301</td><td>12157.51</td><td>1622.658</td><td>12.799107864</td><td>0.0003806043</td></tr>\n",
              "</tbody>\n",
              "</table>\n"
            ],
            "text/markdown": "\nA anova: 8 × 6\n\n| <!--/--> | Df &lt;dbl&gt; | Sum of Sq &lt;dbl&gt; | RSS &lt;dbl&gt; | AIC &lt;dbl&gt; | F value &lt;dbl&gt; | Pr(&gt;F) &lt;dbl&gt; |\n|---|---|---|---|---|---|---|\n| &lt;none&gt; | NA |          NA | 12469.34 | 1633.473 |           NA |           NA |\n| CRIM |  1 | 141.4332488 | 12327.91 | 1629.701 |  5.724829755 | 0.0170954897 |\n| ZN |  1 | 151.7132046 | 12317.63 | 1629.279 |  6.146059209 | 0.0134997960 |\n| INDUS |  1 |  17.1043214 | 12452.24 | 1634.778 |  0.685423387 | 0.4081212016 |\n| AGE |  1 |   0.2453368 | 12469.10 | 1635.463 |  0.009818115 | 0.9211094589 |\n| RAD |  1 |  53.4806021 | 12415.86 | 1633.298 |  2.149413156 | 0.1432542522 |\n| TAX |  1 |  10.4987989 | 12458.85 | 1635.047 |  0.420496482 | 0.5169877009 |\n| B |  1 | 311.8342301 | 12157.51 | 1622.658 | 12.799107864 | 0.0003806043 |\n\n",
            "text/latex": "A anova: 8 × 6\n\\begin{tabular}{r|llllll}\n  & Df & Sum of Sq & RSS & AIC & F value & Pr(>F)\\\\\n  & <dbl> & <dbl> & <dbl> & <dbl> & <dbl> & <dbl>\\\\\n\\hline\n\t<none> & NA &          NA & 12469.34 & 1633.473 &           NA &           NA\\\\\n\tCRIM &  1 & 141.4332488 & 12327.91 & 1629.701 &  5.724829755 & 0.0170954897\\\\\n\tZN &  1 & 151.7132046 & 12317.63 & 1629.279 &  6.146059209 & 0.0134997960\\\\\n\tINDUS &  1 &  17.1043214 & 12452.24 & 1634.778 &  0.685423387 & 0.4081212016\\\\\n\tAGE &  1 &   0.2453368 & 12469.10 & 1635.463 &  0.009818115 & 0.9211094589\\\\\n\tRAD &  1 &  53.4806021 & 12415.86 & 1633.298 &  2.149413156 & 0.1432542522\\\\\n\tTAX &  1 &  10.4987989 & 12458.85 & 1635.047 &  0.420496482 & 0.5169877009\\\\\n\tB &  1 & 311.8342301 & 12157.51 & 1622.658 & 12.799107864 & 0.0003806043\\\\\n\\end{tabular}\n",
            "text/plain": [
              "       Df Sum of Sq   RSS      AIC      F value      Pr(>F)      \n",
              "<none> NA          NA 12469.34 1633.473           NA           NA\n",
              "CRIM    1 141.4332488 12327.91 1629.701  5.724829755 0.0170954897\n",
              "ZN      1 151.7132046 12317.63 1629.279  6.146059209 0.0134997960\n",
              "INDUS   1  17.1043214 12452.24 1634.778  0.685423387 0.4081212016\n",
              "AGE     1   0.2453368 12469.10 1635.463  0.009818115 0.9211094589\n",
              "RAD     1  53.4806021 12415.86 1633.298  2.149413156 0.1432542522\n",
              "TAX     1  10.4987989 12458.85 1635.047  0.420496482 0.5169877009\n",
              "B       1 311.8342301 12157.51 1622.658 12.799107864 0.0003806043"
            ]
          },
          "metadata": {}
        },
        {
          "output_type": "display_data",
          "data": {
            "text/plain": [
              "\n",
              "Call:\n",
              "lm(formula = MEDV ~ LSTAT + RM + PTRATIO + DIS + NOX + B, data = boston)\n",
              "\n",
              "Residuals:\n",
              "     Min       1Q   Median       3Q      Max \n",
              "-13.3352  -2.9006  -0.7175   1.7552  28.0066 \n",
              "\n",
              "Coefficients:\n",
              "              Estimate Std. Error t value Pr(>|t|)    \n",
              "(Intercept)  30.516970   4.959607   6.153 1.56e-09 ***\n",
              "LSTAT        -0.545497   0.048415 -11.267  < 2e-16 ***\n",
              "RM            4.354807   0.410753  10.602  < 2e-16 ***\n",
              "PTRATIO      -1.012059   0.112597  -8.988  < 2e-16 ***\n",
              "DIS          -1.159603   0.166619  -6.960 1.08e-11 ***\n",
              "NOX         -15.842368   3.278907  -4.832 1.81e-06 ***\n",
              "B             0.009578   0.002677   3.578 0.000381 ***\n",
              "---\n",
              "Signif. codes:  0 ‘***’ 0.001 ‘**’ 0.01 ‘*’ 0.05 ‘.’ 0.1 ‘ ’ 1\n",
              "\n",
              "Residual standard error: 4.936 on 499 degrees of freedom\n",
              "Multiple R-squared:  0.7154,\tAdjusted R-squared:  0.712 \n",
              "F-statistic:   209 on 6 and 499 DF,  p-value: < 2.2e-16\n"
            ]
          },
          "metadata": {}
        }
      ]
    },
    {
      "cell_type": "code",
      "source": [
        "add1(mod6, scope = .~. + CRIM + ZN + INDUS + AGE + RAD + TAX, test = \"F\")\n",
        "mod7 <- update(mod6, formula = .~. + ZN)\n",
        "summary(mod7)"
      ],
      "metadata": {
        "colab": {
          "base_uri": "https://localhost:8080/",
          "height": 751
        },
        "id": "sESDy4nWkXyH",
        "outputId": "09747612-1bad-47c8-bdc3-ee679b7d6c9d"
      },
      "execution_count": 10,
      "outputs": [
        {
          "output_type": "display_data",
          "data": {
            "text/html": [
              "<table class=\"dataframe\">\n",
              "<caption>A anova: 7 × 6</caption>\n",
              "<thead>\n",
              "\t<tr><th></th><th scope=col>Df</th><th scope=col>Sum of Sq</th><th scope=col>RSS</th><th scope=col>AIC</th><th scope=col>F value</th><th scope=col>Pr(&gt;F)</th></tr>\n",
              "\t<tr><th></th><th scope=col>&lt;dbl&gt;</th><th scope=col>&lt;dbl&gt;</th><th scope=col>&lt;dbl&gt;</th><th scope=col>&lt;dbl&gt;</th><th scope=col>&lt;dbl&gt;</th><th scope=col>&lt;dbl&gt;</th></tr>\n",
              "</thead>\n",
              "<tbody>\n",
              "\t<tr><th scope=row>&lt;none&gt;</th><td>NA</td><td>         NA</td><td>12157.51</td><td>1622.658</td><td>       NA</td><td>         NA</td></tr>\n",
              "\t<tr><th scope=row>CRIM</th><td> 1</td><td> 68.7669346</td><td>12088.74</td><td>1621.788</td><td>2.8328779</td><td>0.092979467</td></tr>\n",
              "\t<tr><th scope=row>ZN</th><td> 1</td><td>178.7925375</td><td>11978.72</td><td>1617.161</td><td>7.4330732</td><td>0.006629321</td></tr>\n",
              "\t<tr><th scope=row>INDUS</th><td> 1</td><td>  8.6365033</td><td>12148.87</td><td>1624.298</td><td>0.3540228</td><td>0.552114937</td></tr>\n",
              "\t<tr><th scope=row>AGE</th><td> 1</td><td>  4.8564228</td><td>12152.65</td><td>1624.456</td><td>0.1990099</td><td>0.655715099</td></tr>\n",
              "\t<tr><th scope=row>RAD</th><td> 1</td><td>143.1069294</td><td>12014.40</td><td>1618.666</td><td>5.9318179</td><td>0.015219696</td></tr>\n",
              "\t<tr><th scope=row>TAX</th><td> 1</td><td>  0.5470414</td><td>12156.96</td><td>1624.635</td><td>0.0224091</td><td>0.881064521</td></tr>\n",
              "</tbody>\n",
              "</table>\n"
            ],
            "text/markdown": "\nA anova: 7 × 6\n\n| <!--/--> | Df &lt;dbl&gt; | Sum of Sq &lt;dbl&gt; | RSS &lt;dbl&gt; | AIC &lt;dbl&gt; | F value &lt;dbl&gt; | Pr(&gt;F) &lt;dbl&gt; |\n|---|---|---|---|---|---|---|\n| &lt;none&gt; | NA |          NA | 12157.51 | 1622.658 |        NA |          NA |\n| CRIM |  1 |  68.7669346 | 12088.74 | 1621.788 | 2.8328779 | 0.092979467 |\n| ZN |  1 | 178.7925375 | 11978.72 | 1617.161 | 7.4330732 | 0.006629321 |\n| INDUS |  1 |   8.6365033 | 12148.87 | 1624.298 | 0.3540228 | 0.552114937 |\n| AGE |  1 |   4.8564228 | 12152.65 | 1624.456 | 0.1990099 | 0.655715099 |\n| RAD |  1 | 143.1069294 | 12014.40 | 1618.666 | 5.9318179 | 0.015219696 |\n| TAX |  1 |   0.5470414 | 12156.96 | 1624.635 | 0.0224091 | 0.881064521 |\n\n",
            "text/latex": "A anova: 7 × 6\n\\begin{tabular}{r|llllll}\n  & Df & Sum of Sq & RSS & AIC & F value & Pr(>F)\\\\\n  & <dbl> & <dbl> & <dbl> & <dbl> & <dbl> & <dbl>\\\\\n\\hline\n\t<none> & NA &          NA & 12157.51 & 1622.658 &        NA &          NA\\\\\n\tCRIM &  1 &  68.7669346 & 12088.74 & 1621.788 & 2.8328779 & 0.092979467\\\\\n\tZN &  1 & 178.7925375 & 11978.72 & 1617.161 & 7.4330732 & 0.006629321\\\\\n\tINDUS &  1 &   8.6365033 & 12148.87 & 1624.298 & 0.3540228 & 0.552114937\\\\\n\tAGE &  1 &   4.8564228 & 12152.65 & 1624.456 & 0.1990099 & 0.655715099\\\\\n\tRAD &  1 & 143.1069294 & 12014.40 & 1618.666 & 5.9318179 & 0.015219696\\\\\n\tTAX &  1 &   0.5470414 & 12156.96 & 1624.635 & 0.0224091 & 0.881064521\\\\\n\\end{tabular}\n",
            "text/plain": [
              "       Df Sum of Sq   RSS      AIC      F value   Pr(>F)     \n",
              "<none> NA          NA 12157.51 1622.658        NA          NA\n",
              "CRIM    1  68.7669346 12088.74 1621.788 2.8328779 0.092979467\n",
              "ZN      1 178.7925375 11978.72 1617.161 7.4330732 0.006629321\n",
              "INDUS   1   8.6365033 12148.87 1624.298 0.3540228 0.552114937\n",
              "AGE     1   4.8564228 12152.65 1624.456 0.1990099 0.655715099\n",
              "RAD     1 143.1069294 12014.40 1618.666 5.9318179 0.015219696\n",
              "TAX     1   0.5470414 12156.96 1624.635 0.0224091 0.881064521"
            ]
          },
          "metadata": {}
        },
        {
          "output_type": "display_data",
          "data": {
            "text/plain": [
              "\n",
              "Call:\n",
              "lm(formula = MEDV ~ LSTAT + RM + PTRATIO + DIS + NOX + B + ZN, \n",
              "    data = boston)\n",
              "\n",
              "Residuals:\n",
              "     Min       1Q   Median       3Q      Max \n",
              "-13.1644  -2.9451  -0.5997   1.7574  27.3581 \n",
              "\n",
              "Coefficients:\n",
              "              Estimate Std. Error t value Pr(>|t|)    \n",
              "(Intercept)  30.426789   4.928055   6.174 1.38e-09 ***\n",
              "LSTAT        -0.551446   0.048155 -11.451  < 2e-16 ***\n",
              "RM            4.183014   0.412967  10.129  < 2e-16 ***\n",
              "PTRATIO      -0.923697   0.116478  -7.930 1.45e-14 ***\n",
              "DIS          -1.411732   0.189633  -7.445 4.31e-13 ***\n",
              "NOX         -15.836738   3.257974  -4.861 1.57e-06 ***\n",
              "B             0.010002   0.002665   3.754 0.000195 ***\n",
              "ZN            0.036672   0.013451   2.726 0.006629 ** \n",
              "---\n",
              "Signif. codes:  0 ‘***’ 0.001 ‘**’ 0.01 ‘*’ 0.05 ‘.’ 0.1 ‘ ’ 1\n",
              "\n",
              "Residual standard error: 4.904 on 498 degrees of freedom\n",
              "Multiple R-squared:  0.7196,\tAdjusted R-squared:  0.7156 \n",
              "F-statistic: 182.6 on 7 and 498 DF,  p-value: < 2.2e-16\n"
            ]
          },
          "metadata": {}
        }
      ]
    },
    {
      "cell_type": "code",
      "source": [
        "add1(mod7, scope = .~. + CRIM + INDUS + AGE + RAD + TAX, test = \"F\")\n",
        "mod8 <- update(mod7, formula = .~. + CRIM)\n",
        "summary(mod8)"
      ],
      "metadata": {
        "colab": {
          "base_uri": "https://localhost:8080/",
          "height": 737
        },
        "id": "RMQs5NjKkatO",
        "outputId": "7740d639-4921-4ef0-85b6-22892da753e8"
      },
      "execution_count": 11,
      "outputs": [
        {
          "output_type": "display_data",
          "data": {
            "text/html": [
              "<table class=\"dataframe\">\n",
              "<caption>A anova: 6 × 6</caption>\n",
              "<thead>\n",
              "\t<tr><th></th><th scope=col>Df</th><th scope=col>Sum of Sq</th><th scope=col>RSS</th><th scope=col>AIC</th><th scope=col>F value</th><th scope=col>Pr(&gt;F)</th></tr>\n",
              "\t<tr><th></th><th scope=col>&lt;dbl&gt;</th><th scope=col>&lt;dbl&gt;</th><th scope=col>&lt;dbl&gt;</th><th scope=col>&lt;dbl&gt;</th><th scope=col>&lt;dbl&gt;</th><th scope=col>&lt;dbl&gt;</th></tr>\n",
              "</thead>\n",
              "<tbody>\n",
              "\t<tr><th scope=row>&lt;none&gt;</th><td>NA</td><td>         NA</td><td>11978.72</td><td>1617.161</td><td>         NA</td><td>        NA</td></tr>\n",
              "\t<tr><th scope=row>CRIM</th><td> 1</td><td>110.7911054</td><td>11867.93</td><td>1614.459</td><td>4.639663079</td><td>0.03172122</td></tr>\n",
              "\t<tr><th scope=row>INDUS</th><td> 1</td><td>  8.8588808</td><td>11969.86</td><td>1618.787</td><td>0.367829224</td><td>0.54446683</td></tr>\n",
              "\t<tr><th scope=row>AGE</th><td> 1</td><td>  0.1489926</td><td>11978.57</td><td>1619.155</td><td>0.006181819</td><td>0.93736291</td></tr>\n",
              "\t<tr><th scope=row>RAD</th><td> 1</td><td> 94.0791543</td><td>11884.64</td><td>1615.171</td><td>3.934266975</td><td>0.04786160</td></tr>\n",
              "\t<tr><th scope=row>TAX</th><td> 1</td><td>  7.9899490</td><td>11970.73</td><td>1618.824</td><td>0.331726263</td><td>0.56490507</td></tr>\n",
              "</tbody>\n",
              "</table>\n"
            ],
            "text/markdown": "\nA anova: 6 × 6\n\n| <!--/--> | Df &lt;dbl&gt; | Sum of Sq &lt;dbl&gt; | RSS &lt;dbl&gt; | AIC &lt;dbl&gt; | F value &lt;dbl&gt; | Pr(&gt;F) &lt;dbl&gt; |\n|---|---|---|---|---|---|---|\n| &lt;none&gt; | NA |          NA | 11978.72 | 1617.161 |          NA |         NA |\n| CRIM |  1 | 110.7911054 | 11867.93 | 1614.459 | 4.639663079 | 0.03172122 |\n| INDUS |  1 |   8.8588808 | 11969.86 | 1618.787 | 0.367829224 | 0.54446683 |\n| AGE |  1 |   0.1489926 | 11978.57 | 1619.155 | 0.006181819 | 0.93736291 |\n| RAD |  1 |  94.0791543 | 11884.64 | 1615.171 | 3.934266975 | 0.04786160 |\n| TAX |  1 |   7.9899490 | 11970.73 | 1618.824 | 0.331726263 | 0.56490507 |\n\n",
            "text/latex": "A anova: 6 × 6\n\\begin{tabular}{r|llllll}\n  & Df & Sum of Sq & RSS & AIC & F value & Pr(>F)\\\\\n  & <dbl> & <dbl> & <dbl> & <dbl> & <dbl> & <dbl>\\\\\n\\hline\n\t<none> & NA &          NA & 11978.72 & 1617.161 &          NA &         NA\\\\\n\tCRIM &  1 & 110.7911054 & 11867.93 & 1614.459 & 4.639663079 & 0.03172122\\\\\n\tINDUS &  1 &   8.8588808 & 11969.86 & 1618.787 & 0.367829224 & 0.54446683\\\\\n\tAGE &  1 &   0.1489926 & 11978.57 & 1619.155 & 0.006181819 & 0.93736291\\\\\n\tRAD &  1 &  94.0791543 & 11884.64 & 1615.171 & 3.934266975 & 0.04786160\\\\\n\tTAX &  1 &   7.9899490 & 11970.73 & 1618.824 & 0.331726263 & 0.56490507\\\\\n\\end{tabular}\n",
            "text/plain": [
              "       Df Sum of Sq   RSS      AIC      F value     Pr(>F)    \n",
              "<none> NA          NA 11978.72 1617.161          NA         NA\n",
              "CRIM    1 110.7911054 11867.93 1614.459 4.639663079 0.03172122\n",
              "INDUS   1   8.8588808 11969.86 1618.787 0.367829224 0.54446683\n",
              "AGE     1   0.1489926 11978.57 1619.155 0.006181819 0.93736291\n",
              "RAD     1  94.0791543 11884.64 1615.171 3.934266975 0.04786160\n",
              "TAX     1   7.9899490 11970.73 1618.824 0.331726263 0.56490507"
            ]
          },
          "metadata": {}
        },
        {
          "output_type": "display_data",
          "data": {
            "text/plain": [
              "\n",
              "Call:\n",
              "lm(formula = MEDV ~ LSTAT + RM + PTRATIO + DIS + NOX + B + ZN + \n",
              "    CRIM, data = boston)\n",
              "\n",
              "Residuals:\n",
              "     Min       1Q   Median       3Q      Max \n",
              "-13.3476  -2.9305  -0.6927   1.7085  27.4903 \n",
              "\n",
              "Coefficients:\n",
              "              Estimate Std. Error t value Pr(>|t|)    \n",
              "(Intercept)  29.549705   4.926999   5.998 3.86e-09 ***\n",
              "LSTAT        -0.531634   0.048854 -10.882  < 2e-16 ***\n",
              "RM            4.217414   0.411775  10.242  < 2e-16 ***\n",
              "PTRATIO      -0.875833   0.118163  -7.412 5.39e-13 ***\n",
              "DIS          -1.463800   0.190484  -7.685 8.25e-14 ***\n",
              "NOX         -15.213644   3.258997  -4.668 3.91e-06 ***\n",
              "B             0.008784   0.002715   3.236  0.00129 ** \n",
              "ZN            0.041267   0.013571   3.041  0.00248 ** \n",
              "CRIM         -0.066092   0.030683  -2.154  0.03172 *  \n",
              "---\n",
              "Signif. codes:  0 ‘***’ 0.001 ‘**’ 0.01 ‘*’ 0.05 ‘.’ 0.1 ‘ ’ 1\n",
              "\n",
              "Residual standard error: 4.887 on 497 degrees of freedom\n",
              "Multiple R-squared:  0.7222,\tAdjusted R-squared:  0.7177 \n",
              "F-statistic: 161.5 on 8 and 497 DF,  p-value: < 2.2e-16\n"
            ]
          },
          "metadata": {}
        }
      ]
    },
    {
      "cell_type": "code",
      "source": [
        "add1(mod8, scope = .~. + CRIM + INDUS + AGE + RAD + TAX, test = \"F\")\n",
        "mod9 <- update(mod8, formula = .~. + RAD)\n",
        "summary(mod9)"
      ],
      "metadata": {
        "colab": {
          "base_uri": "https://localhost:8080/",
          "height": 723
        },
        "id": "K6Sb2hgnkcr-",
        "outputId": "5d45f477-9547-4ee4-ccda-e17e2e23cade"
      },
      "execution_count": 12,
      "outputs": [
        {
          "output_type": "display_data",
          "data": {
            "text/html": [
              "<table class=\"dataframe\">\n",
              "<caption>A anova: 5 × 6</caption>\n",
              "<thead>\n",
              "\t<tr><th></th><th scope=col>Df</th><th scope=col>Sum of Sq</th><th scope=col>RSS</th><th scope=col>AIC</th><th scope=col>F value</th><th scope=col>Pr(&gt;F)</th></tr>\n",
              "\t<tr><th></th><th scope=col>&lt;dbl&gt;</th><th scope=col>&lt;dbl&gt;</th><th scope=col>&lt;dbl&gt;</th><th scope=col>&lt;dbl&gt;</th><th scope=col>&lt;dbl&gt;</th><th scope=col>&lt;dbl&gt;</th></tr>\n",
              "</thead>\n",
              "<tbody>\n",
              "\t<tr><th scope=row>&lt;none&gt;</th><td>NA</td><td>         NA</td><td>11867.93</td><td>1614.459</td><td>         NA</td><td>         NA</td></tr>\n",
              "\t<tr><th scope=row>INDUS</th><td> 1</td><td>  8.8094744</td><td>11859.12</td><td>1616.084</td><td> 0.36845065</td><td>0.544127762</td></tr>\n",
              "\t<tr><th scope=row>AGE</th><td> 1</td><td>  0.6194489</td><td>11867.31</td><td>1616.433</td><td> 0.02589018</td><td>0.872234331</td></tr>\n",
              "\t<tr><th scope=row>RAD</th><td> 1</td><td>240.2744189</td><td>11627.65</td><td>1606.110</td><td>10.24937049</td><td>0.001455034</td></tr>\n",
              "\t<tr><th scope=row>TAX</th><td> 1</td><td>  0.2916237</td><td>11867.63</td><td>1616.447</td><td> 0.01218822</td><td>0.912136582</td></tr>\n",
              "</tbody>\n",
              "</table>\n"
            ],
            "text/markdown": "\nA anova: 5 × 6\n\n| <!--/--> | Df &lt;dbl&gt; | Sum of Sq &lt;dbl&gt; | RSS &lt;dbl&gt; | AIC &lt;dbl&gt; | F value &lt;dbl&gt; | Pr(&gt;F) &lt;dbl&gt; |\n|---|---|---|---|---|---|---|\n| &lt;none&gt; | NA |          NA | 11867.93 | 1614.459 |          NA |          NA |\n| INDUS |  1 |   8.8094744 | 11859.12 | 1616.084 |  0.36845065 | 0.544127762 |\n| AGE |  1 |   0.6194489 | 11867.31 | 1616.433 |  0.02589018 | 0.872234331 |\n| RAD |  1 | 240.2744189 | 11627.65 | 1606.110 | 10.24937049 | 0.001455034 |\n| TAX |  1 |   0.2916237 | 11867.63 | 1616.447 |  0.01218822 | 0.912136582 |\n\n",
            "text/latex": "A anova: 5 × 6\n\\begin{tabular}{r|llllll}\n  & Df & Sum of Sq & RSS & AIC & F value & Pr(>F)\\\\\n  & <dbl> & <dbl> & <dbl> & <dbl> & <dbl> & <dbl>\\\\\n\\hline\n\t<none> & NA &          NA & 11867.93 & 1614.459 &          NA &          NA\\\\\n\tINDUS &  1 &   8.8094744 & 11859.12 & 1616.084 &  0.36845065 & 0.544127762\\\\\n\tAGE &  1 &   0.6194489 & 11867.31 & 1616.433 &  0.02589018 & 0.872234331\\\\\n\tRAD &  1 & 240.2744189 & 11627.65 & 1606.110 & 10.24937049 & 0.001455034\\\\\n\tTAX &  1 &   0.2916237 & 11867.63 & 1616.447 &  0.01218822 & 0.912136582\\\\\n\\end{tabular}\n",
            "text/plain": [
              "       Df Sum of Sq   RSS      AIC      F value     Pr(>F)     \n",
              "<none> NA          NA 11867.93 1614.459          NA          NA\n",
              "INDUS   1   8.8094744 11859.12 1616.084  0.36845065 0.544127762\n",
              "AGE     1   0.6194489 11867.31 1616.433  0.02589018 0.872234331\n",
              "RAD     1 240.2744189 11627.65 1606.110 10.24937049 0.001455034\n",
              "TAX     1   0.2916237 11867.63 1616.447  0.01218822 0.912136582"
            ]
          },
          "metadata": {}
        },
        {
          "output_type": "display_data",
          "data": {
            "text/plain": [
              "\n",
              "Call:\n",
              "lm(formula = MEDV ~ LSTAT + RM + PTRATIO + DIS + NOX + B + ZN + \n",
              "    CRIM + RAD, data = boston)\n",
              "\n",
              "Residuals:\n",
              "     Min       1Q   Median       3Q      Max \n",
              "-13.8685  -3.0287  -0.5392   1.7236  26.3733 \n",
              "\n",
              "Coefficients:\n",
              "              Estimate Std. Error t value Pr(>|t|)    \n",
              "(Intercept)  34.882969   5.158194   6.763 3.82e-11 ***\n",
              "LSTAT        -0.534716   0.048415 -11.044  < 2e-16 ***\n",
              "RM            4.039124   0.411780   9.809  < 2e-16 ***\n",
              "PTRATIO      -1.055722   0.129864  -8.129 3.47e-15 ***\n",
              "DIS          -1.460774   0.188738  -7.740 5.63e-14 ***\n",
              "NOX         -19.563305   3.503275  -5.584 3.87e-08 ***\n",
              "B             0.010217   0.002727   3.747 0.000200 ***\n",
              "ZN            0.035751   0.013556   2.637 0.008621 ** \n",
              "CRIM         -0.110747   0.033449  -3.311 0.000998 ***\n",
              "RAD           0.131973   0.041223   3.201 0.001455 ** \n",
              "---\n",
              "Signif. codes:  0 ‘***’ 0.001 ‘**’ 0.01 ‘*’ 0.05 ‘.’ 0.1 ‘ ’ 1\n",
              "\n",
              "Residual standard error: 4.842 on 496 degrees of freedom\n",
              "Multiple R-squared:  0.7278,\tAdjusted R-squared:  0.7229 \n",
              "F-statistic: 147.3 on 9 and 496 DF,  p-value: < 2.2e-16\n"
            ]
          },
          "metadata": {}
        }
      ]
    },
    {
      "cell_type": "code",
      "source": [
        "add1(mod9, scope = .~. + CRIM + INDUS + AGE + TAX, test = \"F\")\n",
        "mod10 <- update(mod9, formula = .~. + TAX)\n",
        "summary(mod10)"
      ],
      "metadata": {
        "colab": {
          "base_uri": "https://localhost:8080/",
          "height": 709
        },
        "id": "vyrceqPEkfVM",
        "outputId": "6a13877f-b93d-449a-a95d-1dbf82f800a9"
      },
      "execution_count": 13,
      "outputs": [
        {
          "output_type": "display_data",
          "data": {
            "text/html": [
              "<table class=\"dataframe\">\n",
              "<caption>A anova: 4 × 6</caption>\n",
              "<thead>\n",
              "\t<tr><th></th><th scope=col>Df</th><th scope=col>Sum of Sq</th><th scope=col>RSS</th><th scope=col>AIC</th><th scope=col>F value</th><th scope=col>Pr(&gt;F)</th></tr>\n",
              "\t<tr><th></th><th scope=col>&lt;dbl&gt;</th><th scope=col>&lt;dbl&gt;</th><th scope=col>&lt;dbl&gt;</th><th scope=col>&lt;dbl&gt;</th><th scope=col>&lt;dbl&gt;</th><th scope=col>&lt;dbl&gt;</th></tr>\n",
              "</thead>\n",
              "<tbody>\n",
              "\t<tr><th scope=row>&lt;none&gt;</th><td>NA</td><td>         NA</td><td>11627.65</td><td>1606.110</td><td>         NA</td><td>          NA</td></tr>\n",
              "\t<tr><th scope=row>INDUS</th><td> 1</td><td> 23.7656724</td><td>11603.89</td><td>1607.075</td><td> 1.01379897</td><td>0.3144863703</td></tr>\n",
              "\t<tr><th scope=row>AGE</th><td> 1</td><td>  0.2413579</td><td>11627.41</td><td>1608.099</td><td> 0.01027505</td><td>0.9193010472</td></tr>\n",
              "\t<tr><th scope=row>TAX</th><td> 1</td><td>319.0742526</td><td>11308.58</td><td>1594.031</td><td>13.96654474</td><td>0.0002077932</td></tr>\n",
              "</tbody>\n",
              "</table>\n"
            ],
            "text/markdown": "\nA anova: 4 × 6\n\n| <!--/--> | Df &lt;dbl&gt; | Sum of Sq &lt;dbl&gt; | RSS &lt;dbl&gt; | AIC &lt;dbl&gt; | F value &lt;dbl&gt; | Pr(&gt;F) &lt;dbl&gt; |\n|---|---|---|---|---|---|---|\n| &lt;none&gt; | NA |          NA | 11627.65 | 1606.110 |          NA |           NA |\n| INDUS |  1 |  23.7656724 | 11603.89 | 1607.075 |  1.01379897 | 0.3144863703 |\n| AGE |  1 |   0.2413579 | 11627.41 | 1608.099 |  0.01027505 | 0.9193010472 |\n| TAX |  1 | 319.0742526 | 11308.58 | 1594.031 | 13.96654474 | 0.0002077932 |\n\n",
            "text/latex": "A anova: 4 × 6\n\\begin{tabular}{r|llllll}\n  & Df & Sum of Sq & RSS & AIC & F value & Pr(>F)\\\\\n  & <dbl> & <dbl> & <dbl> & <dbl> & <dbl> & <dbl>\\\\\n\\hline\n\t<none> & NA &          NA & 11627.65 & 1606.110 &          NA &           NA\\\\\n\tINDUS &  1 &  23.7656724 & 11603.89 & 1607.075 &  1.01379897 & 0.3144863703\\\\\n\tAGE &  1 &   0.2413579 & 11627.41 & 1608.099 &  0.01027505 & 0.9193010472\\\\\n\tTAX &  1 & 319.0742526 & 11308.58 & 1594.031 & 13.96654474 & 0.0002077932\\\\\n\\end{tabular}\n",
            "text/plain": [
              "       Df Sum of Sq   RSS      AIC      F value     Pr(>F)      \n",
              "<none> NA          NA 11627.65 1606.110          NA           NA\n",
              "INDUS   1  23.7656724 11603.89 1607.075  1.01379897 0.3144863703\n",
              "AGE     1   0.2413579 11627.41 1608.099  0.01027505 0.9193010472\n",
              "TAX     1 319.0742526 11308.58 1594.031 13.96654474 0.0002077932"
            ]
          },
          "metadata": {}
        },
        {
          "output_type": "display_data",
          "data": {
            "text/plain": [
              "\n",
              "Call:\n",
              "lm(formula = MEDV ~ LSTAT + RM + PTRATIO + DIS + NOX + B + ZN + \n",
              "    CRIM + RAD + TAX, data = boston)\n",
              "\n",
              "Residuals:\n",
              "     Min       1Q   Median       3Q      Max \n",
              "-13.3716  -2.7943  -0.5508   1.8942  26.3982 \n",
              "\n",
              "Coefficients:\n",
              "              Estimate Std. Error t value Pr(>|t|)    \n",
              "(Intercept)  36.620311   5.113241   7.162 2.90e-12 ***\n",
              "LSTAT        -0.528103   0.047827 -11.042  < 2e-16 ***\n",
              "RM            3.844639   0.409818   9.381  < 2e-16 ***\n",
              "PTRATIO      -0.978442   0.129857  -7.535 2.34e-13 ***\n",
              "DIS          -1.526099   0.187136  -8.155 2.89e-15 ***\n",
              "NOX         -16.469153   3.556086  -4.631 4.65e-06 ***\n",
              "B             0.009730   0.002695   3.611 0.000337 ***\n",
              "ZN            0.045742   0.013647   3.352 0.000864 ***\n",
              "CRIM         -0.114056   0.033032  -3.453 0.000602 ***\n",
              "RAD           0.315531   0.063785   4.947 1.04e-06 ***\n",
              "TAX          -0.012674   0.003391  -3.737 0.000208 ***\n",
              "---\n",
              "Signif. codes:  0 ‘***’ 0.001 ‘**’ 0.01 ‘*’ 0.05 ‘.’ 0.1 ‘ ’ 1\n",
              "\n",
              "Residual standard error: 4.78 on 495 degrees of freedom\n",
              "Multiple R-squared:  0.7353,\tAdjusted R-squared:  0.7299 \n",
              "F-statistic: 137.5 on 10 and 495 DF,  p-value: < 2.2e-16\n"
            ]
          },
          "metadata": {}
        }
      ]
    },
    {
      "cell_type": "code",
      "source": [
        "add1(mod10, scope = .~. + CRIM + INDUS + AGE, test = \"F\")"
      ],
      "metadata": {
        "colab": {
          "base_uri": "https://localhost:8080/",
          "height": 192
        },
        "id": "GarpAaIKkhpg",
        "outputId": "25f85d61-1921-40c4-9974-c66a6772a3e4"
      },
      "execution_count": 14,
      "outputs": [
        {
          "output_type": "display_data",
          "data": {
            "text/html": [
              "<table class=\"dataframe\">\n",
              "<caption>A anova: 3 × 6</caption>\n",
              "<thead>\n",
              "\t<tr><th></th><th scope=col>Df</th><th scope=col>Sum of Sq</th><th scope=col>RSS</th><th scope=col>AIC</th><th scope=col>F value</th><th scope=col>Pr(&gt;F)</th></tr>\n",
              "\t<tr><th></th><th scope=col>&lt;dbl&gt;</th><th scope=col>&lt;dbl&gt;</th><th scope=col>&lt;dbl&gt;</th><th scope=col>&lt;dbl&gt;</th><th scope=col>&lt;dbl&gt;</th><th scope=col>&lt;dbl&gt;</th></tr>\n",
              "</thead>\n",
              "<tbody>\n",
              "\t<tr><th scope=row>&lt;none&gt;</th><td>NA</td><td>      NA</td><td>11308.58</td><td>1594.031</td><td>        NA</td><td>       NA</td></tr>\n",
              "\t<tr><th scope=row>INDUS</th><td> 1</td><td>9.820091</td><td>11298.76</td><td>1595.591</td><td>0.42935028</td><td>0.5126129</td></tr>\n",
              "\t<tr><th scope=row>AGE</th><td> 1</td><td>1.042937</td><td>11307.53</td><td>1595.984</td><td>0.04556352</td><td>0.8310593</td></tr>\n",
              "</tbody>\n",
              "</table>\n"
            ],
            "text/markdown": "\nA anova: 3 × 6\n\n| <!--/--> | Df &lt;dbl&gt; | Sum of Sq &lt;dbl&gt; | RSS &lt;dbl&gt; | AIC &lt;dbl&gt; | F value &lt;dbl&gt; | Pr(&gt;F) &lt;dbl&gt; |\n|---|---|---|---|---|---|---|\n| &lt;none&gt; | NA |       NA | 11308.58 | 1594.031 |         NA |        NA |\n| INDUS |  1 | 9.820091 | 11298.76 | 1595.591 | 0.42935028 | 0.5126129 |\n| AGE |  1 | 1.042937 | 11307.53 | 1595.984 | 0.04556352 | 0.8310593 |\n\n",
            "text/latex": "A anova: 3 × 6\n\\begin{tabular}{r|llllll}\n  & Df & Sum of Sq & RSS & AIC & F value & Pr(>F)\\\\\n  & <dbl> & <dbl> & <dbl> & <dbl> & <dbl> & <dbl>\\\\\n\\hline\n\t<none> & NA &       NA & 11308.58 & 1594.031 &         NA &        NA\\\\\n\tINDUS &  1 & 9.820091 & 11298.76 & 1595.591 & 0.42935028 & 0.5126129\\\\\n\tAGE &  1 & 1.042937 & 11307.53 & 1595.984 & 0.04556352 & 0.8310593\\\\\n\\end{tabular}\n",
            "text/plain": [
              "       Df Sum of Sq RSS      AIC      F value    Pr(>F)   \n",
              "<none> NA       NA  11308.58 1594.031         NA        NA\n",
              "INDUS   1 9.820091  11298.76 1595.591 0.42935028 0.5126129\n",
              "AGE     1 1.042937  11307.53 1595.984 0.04556352 0.8310593"
            ]
          },
          "metadata": {}
        }
      ]
    },
    {
      "cell_type": "markdown",
      "source": [
        "There are no more signficant predictors left to be included in the model."
      ],
      "metadata": {
        "id": "4biSFqe9kjo8"
      }
    },
    {
      "cell_type": "code",
      "source": [
        "boston_model <- lm(formula = MEDV ~ LSTAT + RM + PTRATIO + DIS + NOX + B + ZN + CRIM + RAD + TAX, data = boston)\n",
        "summary(boston_model)"
      ],
      "metadata": {
        "colab": {
          "base_uri": "https://localhost:8080/",
          "height": 503
        },
        "id": "-N7oGM9Ykw5F",
        "outputId": "c14cd4a0-e959-44a4-d988-7d3cac08f6f1"
      },
      "execution_count": 15,
      "outputs": [
        {
          "output_type": "display_data",
          "data": {
            "text/plain": [
              "\n",
              "Call:\n",
              "lm(formula = MEDV ~ LSTAT + RM + PTRATIO + DIS + NOX + B + ZN + \n",
              "    CRIM + RAD + TAX, data = boston)\n",
              "\n",
              "Residuals:\n",
              "     Min       1Q   Median       3Q      Max \n",
              "-13.3716  -2.7943  -0.5508   1.8942  26.3982 \n",
              "\n",
              "Coefficients:\n",
              "              Estimate Std. Error t value Pr(>|t|)    \n",
              "(Intercept)  36.620311   5.113241   7.162 2.90e-12 ***\n",
              "LSTAT        -0.528103   0.047827 -11.042  < 2e-16 ***\n",
              "RM            3.844639   0.409818   9.381  < 2e-16 ***\n",
              "PTRATIO      -0.978442   0.129857  -7.535 2.34e-13 ***\n",
              "DIS          -1.526099   0.187136  -8.155 2.89e-15 ***\n",
              "NOX         -16.469153   3.556086  -4.631 4.65e-06 ***\n",
              "B             0.009730   0.002695   3.611 0.000337 ***\n",
              "ZN            0.045742   0.013647   3.352 0.000864 ***\n",
              "CRIM         -0.114056   0.033032  -3.453 0.000602 ***\n",
              "RAD           0.315531   0.063785   4.947 1.04e-06 ***\n",
              "TAX          -0.012674   0.003391  -3.737 0.000208 ***\n",
              "---\n",
              "Signif. codes:  0 ‘***’ 0.001 ‘**’ 0.01 ‘*’ 0.05 ‘.’ 0.1 ‘ ’ 1\n",
              "\n",
              "Residual standard error: 4.78 on 495 degrees of freedom\n",
              "Multiple R-squared:  0.7353,\tAdjusted R-squared:  0.7299 \n",
              "F-statistic: 137.5 on 10 and 495 DF,  p-value: < 2.2e-16\n"
            ]
          },
          "metadata": {}
        }
      ]
    },
    {
      "cell_type": "markdown",
      "source": [
        "The summary of this model shows us that all predictors can signficantly predict the criterion variable. However, we should also check if any of these predictors significantly overlap/correlate with each other (known as mulitcollinearity) because if any of them do, then they may not be estimating any unique variance in the criterion variable."
      ],
      "metadata": {
        "id": "-YFL7jrGj5I9"
      }
    },
    {
      "cell_type": "code",
      "source": [
        "install.packages('car')"
      ],
      "metadata": {
        "colab": {
          "base_uri": "https://localhost:8080/"
        },
        "id": "pBgnyaMPintO",
        "outputId": "0d0a0047-c5ae-4510-986c-82d1b85bd6cd"
      },
      "execution_count": 18,
      "outputs": [
        {
          "output_type": "stream",
          "name": "stderr",
          "text": [
            "Installing package into ‘/usr/local/lib/R/site-library’\n",
            "(as ‘lib’ is unspecified)\n",
            "\n",
            "also installing the dependencies ‘numDeriv’, ‘SparseM’, ‘MatrixModels’, ‘minqa’, ‘nloptr’, ‘Rcpp’, ‘RcppEigen’, ‘carData’, ‘abind’, ‘pbkrtest’, ‘quantreg’, ‘lme4’\n",
            "\n",
            "\n"
          ]
        }
      ]
    },
    {
      "cell_type": "code",
      "source": [
        "car::vif(boston_model)"
      ],
      "metadata": {
        "colab": {
          "base_uri": "https://localhost:8080/",
          "height": 52
        },
        "id": "xFHvJu3alNZK",
        "outputId": "c7e2cb64-bb65-4f8b-b748-07d2115e2686"
      },
      "execution_count": 23,
      "outputs": [
        {
          "output_type": "display_data",
          "data": {
            "text/html": [
              "<style>\n",
              ".dl-inline {width: auto; margin:0; padding: 0}\n",
              ".dl-inline>dt, .dl-inline>dd {float: none; width: auto; display: inline-block}\n",
              ".dl-inline>dt::after {content: \":\\0020\"; padding-right: .5ex}\n",
              ".dl-inline>dt:not(:first-of-type) {padding-left: .5ex}\n",
              "</style><dl class=dl-inline><dt>LSTAT</dt><dd>2.5784932477161</dd><dt>RM</dt><dd>1.83277194709252</dd><dt>PTRATIO</dt><dd>1.74706943172719</dd><dt>DIS</dt><dd>3.43243506504947</dd><dt>NOX</dt><dd>3.75346691120207</dd><dt>B</dt><dd>1.33798683121694</dd><dt>ZN</dt><dd>2.23921595702926</dd><dt>CRIM</dt><dd>1.78446925531989</dd><dt>RAD</dt><dd>6.81840408344742</dd><dt>TAX</dt><dd>7.2216681379889</dd></dl>\n"
            ],
            "text/markdown": "LSTAT\n:   2.5784932477161RM\n:   1.83277194709252PTRATIO\n:   1.74706943172719DIS\n:   3.43243506504947NOX\n:   3.75346691120207B\n:   1.33798683121694ZN\n:   2.23921595702926CRIM\n:   1.78446925531989RAD\n:   6.81840408344742TAX\n:   7.2216681379889\n\n",
            "text/latex": "\\begin{description*}\n\\item[LSTAT] 2.5784932477161\n\\item[RM] 1.83277194709252\n\\item[PTRATIO] 1.74706943172719\n\\item[DIS] 3.43243506504947\n\\item[NOX] 3.75346691120207\n\\item[B] 1.33798683121694\n\\item[ZN] 2.23921595702926\n\\item[CRIM] 1.78446925531989\n\\item[RAD] 6.81840408344742\n\\item[TAX] 7.2216681379889\n\\end{description*}\n",
            "text/plain": [
              "   LSTAT       RM  PTRATIO      DIS      NOX        B       ZN     CRIM \n",
              "2.578493 1.832772 1.747069 3.432435 3.753467 1.337987 2.239216 1.784469 \n",
              "     RAD      TAX \n",
              "6.818404 7.221668 "
            ]
          },
          "metadata": {}
        }
      ]
    },
    {
      "cell_type": "markdown",
      "source": [
        "A VIF of greater than five indicates that a predictor may have multicollinearity. The predictors RAD and TAX have a VIF of greater than five therefore, it may be better to just have one of them in the model rather than both."
      ],
      "metadata": {
        "id": "z2FJvA7nlZGm"
      }
    },
    {
      "cell_type": "code",
      "source": [
        "boston_model_2 <- lm(formula = MEDV ~ LSTAT + RM + PTRATIO + DIS + NOX + B + ZN + CRIM + RAD, data = boston)\n",
        "summary(boston_model_2)"
      ],
      "metadata": {
        "colab": {
          "base_uri": "https://localhost:8080/",
          "height": 485
        },
        "id": "BXSVxtFUnBLI",
        "outputId": "74b27883-49fd-44c8-91d8-c2011bc756fb"
      },
      "execution_count": 25,
      "outputs": [
        {
          "output_type": "display_data",
          "data": {
            "text/plain": [
              "\n",
              "Call:\n",
              "lm(formula = MEDV ~ LSTAT + RM + PTRATIO + DIS + NOX + B + ZN + \n",
              "    CRIM + RAD, data = boston)\n",
              "\n",
              "Residuals:\n",
              "     Min       1Q   Median       3Q      Max \n",
              "-13.8685  -3.0287  -0.5392   1.7236  26.3733 \n",
              "\n",
              "Coefficients:\n",
              "              Estimate Std. Error t value Pr(>|t|)    \n",
              "(Intercept)  34.882969   5.158194   6.763 3.82e-11 ***\n",
              "LSTAT        -0.534716   0.048415 -11.044  < 2e-16 ***\n",
              "RM            4.039124   0.411780   9.809  < 2e-16 ***\n",
              "PTRATIO      -1.055722   0.129864  -8.129 3.47e-15 ***\n",
              "DIS          -1.460774   0.188738  -7.740 5.63e-14 ***\n",
              "NOX         -19.563305   3.503275  -5.584 3.87e-08 ***\n",
              "B             0.010217   0.002727   3.747 0.000200 ***\n",
              "ZN            0.035751   0.013556   2.637 0.008621 ** \n",
              "CRIM         -0.110747   0.033449  -3.311 0.000998 ***\n",
              "RAD           0.131973   0.041223   3.201 0.001455 ** \n",
              "---\n",
              "Signif. codes:  0 ‘***’ 0.001 ‘**’ 0.01 ‘*’ 0.05 ‘.’ 0.1 ‘ ’ 1\n",
              "\n",
              "Residual standard error: 4.842 on 496 degrees of freedom\n",
              "Multiple R-squared:  0.7278,\tAdjusted R-squared:  0.7229 \n",
              "F-statistic: 147.3 on 9 and 496 DF,  p-value: < 2.2e-16\n"
            ]
          },
          "metadata": {}
        }
      ]
    },
    {
      "cell_type": "code",
      "source": [
        "car::vif(boston_model_2)"
      ],
      "metadata": {
        "colab": {
          "base_uri": "https://localhost:8080/",
          "height": 52
        },
        "id": "3rF-FuKqndZS",
        "outputId": "23dfc101-6858-45ff-b407-a241c6fd564c"
      },
      "execution_count": 27,
      "outputs": [
        {
          "output_type": "display_data",
          "data": {
            "text/html": [
              "<style>\n",
              ".dl-inline {width: auto; margin:0; padding: 0}\n",
              ".dl-inline>dt, .dl-inline>dd {float: none; width: auto; display: inline-block}\n",
              ".dl-inline>dt::after {content: \":\\0020\"; padding-right: .5ex}\n",
              ".dl-inline>dt:not(:first-of-type) {padding-left: .5ex}\n",
              "</style><dl class=dl-inline><dt>LSTAT</dt><dd>2.5749640777447</dd><dt>RM</dt><dd>1.80321831689137</dd><dt>PTRATIO</dt><dd>1.7027665680222</dd><dt>DIS</dt><dd>3.40248796775201</dd><dt>NOX</dt><dd>3.55000537493802</dd><dt>B</dt><dd>1.33485673423773</dd><dt>ZN</dt><dd>2.15326819912795</dd><dt>CRIM</dt><dd>1.78318730730248</dd><dt>RAD</dt><dd>2.77532748515032</dd></dl>\n"
            ],
            "text/markdown": "LSTAT\n:   2.5749640777447RM\n:   1.80321831689137PTRATIO\n:   1.7027665680222DIS\n:   3.40248796775201NOX\n:   3.55000537493802B\n:   1.33485673423773ZN\n:   2.15326819912795CRIM\n:   1.78318730730248RAD\n:   2.77532748515032\n\n",
            "text/latex": "\\begin{description*}\n\\item[LSTAT] 2.5749640777447\n\\item[RM] 1.80321831689137\n\\item[PTRATIO] 1.7027665680222\n\\item[DIS] 3.40248796775201\n\\item[NOX] 3.55000537493802\n\\item[B] 1.33485673423773\n\\item[ZN] 2.15326819912795\n\\item[CRIM] 1.78318730730248\n\\item[RAD] 2.77532748515032\n\\end{description*}\n",
            "text/plain": [
              "   LSTAT       RM  PTRATIO      DIS      NOX        B       ZN     CRIM \n",
              "2.574964 1.803218 1.702767 3.402488 3.550005 1.334857 2.153268 1.783187 \n",
              "     RAD \n",
              "2.775327 "
            ]
          },
          "metadata": {}
        }
      ]
    },
    {
      "cell_type": "markdown",
      "source": [
        "Our model now has a F statistic of 147.3 which is higher than that of the previous model (previously it was 137.5)."
      ],
      "metadata": {
        "id": "RkIezuHsnpAq"
      }
    },
    {
      "cell_type": "markdown",
      "source": [
        "The final model has an R squared of 72.8% and the adjusted R-squared is 72.3%, such little difference between the two measures means it's unlikely that a similar result will not be obtained in different samples from the same population (less likely to get such a model by chance).\n",
        "\n",
        "We will perform some diagnostics to further assess how good this model is."
      ],
      "metadata": {
        "id": "Jqou57hulCqS"
      }
    },
    {
      "cell_type": "code",
      "source": [
        "plot(boston_model_2, which = 1)"
      ],
      "metadata": {
        "colab": {
          "base_uri": "https://localhost:8080/",
          "height": 437
        },
        "id": "ZKMzxXxXmk1d",
        "outputId": "0fd9a642-bdea-4601-81dc-dfabc5e5f4fa"
      },
      "execution_count": 30,
      "outputs": [
        {
          "output_type": "display_data",
          "data": {
            "text/plain": [
              "Plot with title “”"
            ],
            "image/png": "[encoded data removed]"
          },
          "metadata": {
            "image/png": {
              "width": 420,
              "height": 420
            }
          }
        }
      ]
    },
    {
      "cell_type": "markdown",
      "source": [
        "In this figure, the red line is our fitted model and the small circles are the residuals (also known as prediction error as they are the difference between an observed value and the predicted value).\n",
        "\n",
        "The residuals of the regression model are randomly scattered in the plot. Even though there are some outliers there is no signficant systematic trend in the overall scattering."
      ],
      "metadata": {
        "id": "UmWEtyionZFz"
      }
    }
  ]
}