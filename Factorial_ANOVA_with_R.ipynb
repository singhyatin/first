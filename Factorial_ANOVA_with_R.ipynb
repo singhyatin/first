{
  "nbformat": 4,
  "nbformat_minor": 0,
  "metadata": {
    "colab": {
      "provenance": []
    },
    "kernelspec": {
      "name": "ir",
      "display_name": "R"
    },
    "language_info": {
      "name": "R"
    }
  },
  "cells": [
    {
      "cell_type": "markdown",
      "source": [
        "I will be conducting a between design Factorial Analysis of Variance (ANOVA)/two-way ANOVA with two independent variables which are temperature (positive or negative) and national unemployment (low, medium, high) to look at their effects on weekly sales. Since this is a 2X3 design, there will be a total of six conditions. This dataset contains data released by Walmart and it can be found at https://www.kaggle.com/datasets/yasserh/walmart-dataset  "
      ],
      "metadata": {
        "id": "TGiVj_aiJEUL"
      }
    },
    {
      "cell_type": "code",
      "execution_count": 1,
      "metadata": {
        "colab": {
          "base_uri": "https://localhost:8080/",
          "height": 442
        },
        "id": "_snLBzqEzQ2J",
        "outputId": "61e43bbc-8440-4b64-a972-2640695d539e"
      },
      "outputs": [
        {
          "output_type": "stream",
          "name": "stderr",
          "text": [
            "\u001b[1mRows: \u001b[22m\u001b[34m6435\u001b[39m \u001b[1mColumns: \u001b[22m\u001b[34m8\u001b[39m\n",
            "\u001b[36m──\u001b[39m \u001b[1mColumn specification\u001b[22m \u001b[36m────────────────────────────────────────────────────────\u001b[39m\n",
            "\u001b[1mDelimiter:\u001b[22m \",\"\n",
            "\u001b[31mchr\u001b[39m (1): Date\n",
            "\u001b[32mdbl\u001b[39m (7): Store, Weekly_Sales, Holiday_Flag, Temperature, Fuel_Price, CPI, Un...\n",
            "\n",
            "\u001b[36mℹ\u001b[39m Use `spec()` to retrieve the full column specification for this data.\n",
            "\u001b[36mℹ\u001b[39m Specify the column types or set `show_col_types = FALSE` to quiet this message.\n"
          ]
        },
        {
          "output_type": "display_data",
          "data": {
            "text/html": [
              "<style>\n",
              ".list-inline {list-style: none; margin:0; padding: 0}\n",
              ".list-inline>li {display: inline-block}\n",
              ".list-inline>li:not(:last-child)::after {content: \"\\00b7\"; padding: 0 .5ex}\n",
              "</style>\n",
              "<ol class=list-inline><li>6435</li><li>8</li></ol>\n"
            ],
            "text/markdown": "1. 6435\n2. 8\n\n\n",
            "text/latex": "\\begin{enumerate*}\n\\item 6435\n\\item 8\n\\end{enumerate*}\n",
            "text/plain": [
              "[1] 6435    8"
            ]
          },
          "metadata": {}
        },
        {
          "output_type": "display_data",
          "data": {
            "text/html": [
              "<table class=\"dataframe\">\n",
              "<caption>A data.frame: 6 × 8</caption>\n",
              "<thead>\n",
              "\t<tr><th></th><th scope=col>Store</th><th scope=col>Date</th><th scope=col>Weekly_Sales</th><th scope=col>Holiday_Flag</th><th scope=col>Temperature</th><th scope=col>Fuel_Price</th><th scope=col>CPI</th><th scope=col>Unemployment</th></tr>\n",
              "\t<tr><th></th><th scope=col>&lt;dbl&gt;</th><th scope=col>&lt;chr&gt;</th><th scope=col>&lt;dbl&gt;</th><th scope=col>&lt;dbl&gt;</th><th scope=col>&lt;dbl&gt;</th><th scope=col>&lt;dbl&gt;</th><th scope=col>&lt;dbl&gt;</th><th scope=col>&lt;dbl&gt;</th></tr>\n",
              "</thead>\n",
              "<tbody>\n",
              "\t<tr><th scope=row>1</th><td>1</td><td>05-02-2010</td><td>1643691</td><td>0</td><td>42.31</td><td>2.572</td><td>211.0964</td><td>8.106</td></tr>\n",
              "\t<tr><th scope=row>2</th><td>1</td><td>12-02-2010</td><td>1641957</td><td>1</td><td>38.51</td><td>2.548</td><td>211.2422</td><td>8.106</td></tr>\n",
              "\t<tr><th scope=row>3</th><td>1</td><td>19-02-2010</td><td>1611968</td><td>0</td><td>39.93</td><td>2.514</td><td>211.2891</td><td>8.106</td></tr>\n",
              "\t<tr><th scope=row>4</th><td>1</td><td>26-02-2010</td><td>1409728</td><td>0</td><td>46.63</td><td>2.561</td><td>211.3196</td><td>8.106</td></tr>\n",
              "\t<tr><th scope=row>5</th><td>1</td><td>05-03-2010</td><td>1554807</td><td>0</td><td>46.50</td><td>2.625</td><td>211.3501</td><td>8.106</td></tr>\n",
              "\t<tr><th scope=row>6</th><td>1</td><td>12-03-2010</td><td>1439542</td><td>0</td><td>57.79</td><td>2.667</td><td>211.3806</td><td>8.106</td></tr>\n",
              "</tbody>\n",
              "</table>\n"
            ],
            "text/markdown": "\nA data.frame: 6 × 8\n\n| <!--/--> | Store &lt;dbl&gt; | Date &lt;chr&gt; | Weekly_Sales &lt;dbl&gt; | Holiday_Flag &lt;dbl&gt; | Temperature &lt;dbl&gt; | Fuel_Price &lt;dbl&gt; | CPI &lt;dbl&gt; | Unemployment &lt;dbl&gt; |\n|---|---|---|---|---|---|---|---|---|\n| 1 | 1 | 05-02-2010 | 1643691 | 0 | 42.31 | 2.572 | 211.0964 | 8.106 |\n| 2 | 1 | 12-02-2010 | 1641957 | 1 | 38.51 | 2.548 | 211.2422 | 8.106 |\n| 3 | 1 | 19-02-2010 | 1611968 | 0 | 39.93 | 2.514 | 211.2891 | 8.106 |\n| 4 | 1 | 26-02-2010 | 1409728 | 0 | 46.63 | 2.561 | 211.3196 | 8.106 |\n| 5 | 1 | 05-03-2010 | 1554807 | 0 | 46.50 | 2.625 | 211.3501 | 8.106 |\n| 6 | 1 | 12-03-2010 | 1439542 | 0 | 57.79 | 2.667 | 211.3806 | 8.106 |\n\n",
            "text/latex": "A data.frame: 6 × 8\n\\begin{tabular}{r|llllllll}\n  & Store & Date & Weekly\\_Sales & Holiday\\_Flag & Temperature & Fuel\\_Price & CPI & Unemployment\\\\\n  & <dbl> & <chr> & <dbl> & <dbl> & <dbl> & <dbl> & <dbl> & <dbl>\\\\\n\\hline\n\t1 & 1 & 05-02-2010 & 1643691 & 0 & 42.31 & 2.572 & 211.0964 & 8.106\\\\\n\t2 & 1 & 12-02-2010 & 1641957 & 1 & 38.51 & 2.548 & 211.2422 & 8.106\\\\\n\t3 & 1 & 19-02-2010 & 1611968 & 0 & 39.93 & 2.514 & 211.2891 & 8.106\\\\\n\t4 & 1 & 26-02-2010 & 1409728 & 0 & 46.63 & 2.561 & 211.3196 & 8.106\\\\\n\t5 & 1 & 05-03-2010 & 1554807 & 0 & 46.50 & 2.625 & 211.3501 & 8.106\\\\\n\t6 & 1 & 12-03-2010 & 1439542 & 0 & 57.79 & 2.667 & 211.3806 & 8.106\\\\\n\\end{tabular}\n",
            "text/plain": [
              "  Store Date       Weekly_Sales Holiday_Flag Temperature Fuel_Price CPI     \n",
              "1 1     05-02-2010 1643691      0            42.31       2.572      211.0964\n",
              "2 1     12-02-2010 1641957      1            38.51       2.548      211.2422\n",
              "3 1     19-02-2010 1611968      0            39.93       2.514      211.2891\n",
              "4 1     26-02-2010 1409728      0            46.63       2.561      211.3196\n",
              "5 1     05-03-2010 1554807      0            46.50       2.625      211.3501\n",
              "6 1     12-03-2010 1439542      0            57.79       2.667      211.3806\n",
              "  Unemployment\n",
              "1 8.106       \n",
              "2 8.106       \n",
              "3 8.106       \n",
              "4 8.106       \n",
              "5 8.106       \n",
              "6 8.106       "
            ]
          },
          "metadata": {}
        }
      ],
      "source": [
        "library(readr)\n",
        "walmart <- read_csv(\"Walmart.csv\")\n",
        "walmart <- as.data.frame(walmart)\n",
        "dim(walmart)\n",
        "head(walmart)"
      ]
    },
    {
      "cell_type": "code",
      "source": [
        "dim(walmart)"
      ],
      "metadata": {
        "id": "W_QbXKGDzjLi"
      },
      "execution_count": null,
      "outputs": []
    },
    {
      "cell_type": "code",
      "source": [
        "any(is.na(walmart)) # to check if there are any missing values"
      ],
      "metadata": {
        "colab": {
          "base_uri": "https://localhost:8080/",
          "height": 34
        },
        "id": "s-brotjIzkEx",
        "outputId": "de95c323-9da9-4d2c-f2fa-0c8197b77b0a"
      },
      "execution_count": null,
      "outputs": [
        {
          "output_type": "display_data",
          "data": {
            "text/html": [
              "FALSE"
            ],
            "text/markdown": "FALSE",
            "text/latex": "FALSE",
            "text/plain": [
              "[1] FALSE"
            ]
          },
          "metadata": {}
        }
      ]
    },
    {
      "cell_type": "code",
      "source": [
        "walmart$Temperature <- (walmart$Temperature - 32) * 5/9 # convert temperature from fahrenheit to celcius\n",
        "walmart$temperature_category <- walmart$Temperature"
      ],
      "metadata": {
        "id": "tRVx6YZXzpUo"
      },
      "execution_count": 2,
      "outputs": []
    },
    {
      "cell_type": "markdown",
      "source": [
        "I will use a for loop to transform the temperature column which currently holds numerical data in to a factor column that holds categorical string data. This new column will be named temperature_category."
      ],
      "metadata": {
        "id": "EfZoyhwHKESZ"
      }
    },
    {
      "cell_type": "code",
      "source": [
        "for(i in 1:length(walmart$temperature_category)){\n",
        "  if(walmart$temperature_category[i] >= 0){\n",
        "    walmart$temperature_category[i] <- \"Positive_Temperature\"\n",
        "  } else {\n",
        "    walmart$temperature_category[i] <- \"Negative_Temperature\"\n",
        "  }\n",
        "}\n",
        "\n",
        "walmart$temperature_category <- as.factor(walmart$temperature_category)"
      ],
      "metadata": {
        "id": "vN_5ZYgHzrdx"
      },
      "execution_count": 3,
      "outputs": []
    },
    {
      "cell_type": "code",
      "source": [
        "head(walmart)"
      ],
      "metadata": {
        "colab": {
          "base_uri": "https://localhost:8080/",
          "height": 286
        },
        "id": "D0UbhCVxKxa-",
        "outputId": "2bf8998d-f5c7-4adf-c55f-efeaab1dacf9"
      },
      "execution_count": null,
      "outputs": [
        {
          "output_type": "display_data",
          "data": {
            "text/html": [
              "<table class=\"dataframe\">\n",
              "<caption>A data.frame: 6 × 9</caption>\n",
              "<thead>\n",
              "\t<tr><th></th><th scope=col>Store</th><th scope=col>Date</th><th scope=col>Weekly_Sales</th><th scope=col>Holiday_Flag</th><th scope=col>Temperature</th><th scope=col>Fuel_Price</th><th scope=col>CPI</th><th scope=col>Unemployment</th><th scope=col>temperature_category</th></tr>\n",
              "\t<tr><th></th><th scope=col>&lt;dbl&gt;</th><th scope=col>&lt;chr&gt;</th><th scope=col>&lt;dbl&gt;</th><th scope=col>&lt;dbl&gt;</th><th scope=col>&lt;dbl&gt;</th><th scope=col>&lt;dbl&gt;</th><th scope=col>&lt;dbl&gt;</th><th scope=col>&lt;dbl&gt;</th><th scope=col>&lt;fct&gt;</th></tr>\n",
              "</thead>\n",
              "<tbody>\n",
              "\t<tr><th scope=row>1</th><td>1</td><td>05-02-2010</td><td>1643691</td><td>0</td><td> 5.727778</td><td>2.572</td><td>211.0964</td><td>8.106</td><td>Positive_Temperature</td></tr>\n",
              "\t<tr><th scope=row>2</th><td>1</td><td>12-02-2010</td><td>1641957</td><td>1</td><td> 3.616667</td><td>2.548</td><td>211.2422</td><td>8.106</td><td>Positive_Temperature</td></tr>\n",
              "\t<tr><th scope=row>3</th><td>1</td><td>19-02-2010</td><td>1611968</td><td>0</td><td> 4.405556</td><td>2.514</td><td>211.2891</td><td>8.106</td><td>Positive_Temperature</td></tr>\n",
              "\t<tr><th scope=row>4</th><td>1</td><td>26-02-2010</td><td>1409728</td><td>0</td><td> 8.127778</td><td>2.561</td><td>211.3196</td><td>8.106</td><td>Positive_Temperature</td></tr>\n",
              "\t<tr><th scope=row>5</th><td>1</td><td>05-03-2010</td><td>1554807</td><td>0</td><td> 8.055556</td><td>2.625</td><td>211.3501</td><td>8.106</td><td>Positive_Temperature</td></tr>\n",
              "\t<tr><th scope=row>6</th><td>1</td><td>12-03-2010</td><td>1439542</td><td>0</td><td>14.327778</td><td>2.667</td><td>211.3806</td><td>8.106</td><td>Positive_Temperature</td></tr>\n",
              "</tbody>\n",
              "</table>\n"
            ],
            "text/markdown": "\nA data.frame: 6 × 9\n\n| <!--/--> | Store &lt;dbl&gt; | Date &lt;chr&gt; | Weekly_Sales &lt;dbl&gt; | Holiday_Flag &lt;dbl&gt; | Temperature &lt;dbl&gt; | Fuel_Price &lt;dbl&gt; | CPI &lt;dbl&gt; | Unemployment &lt;dbl&gt; | temperature_category &lt;fct&gt; |\n|---|---|---|---|---|---|---|---|---|---|\n| 1 | 1 | 05-02-2010 | 1643691 | 0 |  5.727778 | 2.572 | 211.0964 | 8.106 | Positive_Temperature |\n| 2 | 1 | 12-02-2010 | 1641957 | 1 |  3.616667 | 2.548 | 211.2422 | 8.106 | Positive_Temperature |\n| 3 | 1 | 19-02-2010 | 1611968 | 0 |  4.405556 | 2.514 | 211.2891 | 8.106 | Positive_Temperature |\n| 4 | 1 | 26-02-2010 | 1409728 | 0 |  8.127778 | 2.561 | 211.3196 | 8.106 | Positive_Temperature |\n| 5 | 1 | 05-03-2010 | 1554807 | 0 |  8.055556 | 2.625 | 211.3501 | 8.106 | Positive_Temperature |\n| 6 | 1 | 12-03-2010 | 1439542 | 0 | 14.327778 | 2.667 | 211.3806 | 8.106 | Positive_Temperature |\n\n",
            "text/latex": "A data.frame: 6 × 9\n\\begin{tabular}{r|lllllllll}\n  & Store & Date & Weekly\\_Sales & Holiday\\_Flag & Temperature & Fuel\\_Price & CPI & Unemployment & temperature\\_category\\\\\n  & <dbl> & <chr> & <dbl> & <dbl> & <dbl> & <dbl> & <dbl> & <dbl> & <fct>\\\\\n\\hline\n\t1 & 1 & 05-02-2010 & 1643691 & 0 &  5.727778 & 2.572 & 211.0964 & 8.106 & Positive\\_Temperature\\\\\n\t2 & 1 & 12-02-2010 & 1641957 & 1 &  3.616667 & 2.548 & 211.2422 & 8.106 & Positive\\_Temperature\\\\\n\t3 & 1 & 19-02-2010 & 1611968 & 0 &  4.405556 & 2.514 & 211.2891 & 8.106 & Positive\\_Temperature\\\\\n\t4 & 1 & 26-02-2010 & 1409728 & 0 &  8.127778 & 2.561 & 211.3196 & 8.106 & Positive\\_Temperature\\\\\n\t5 & 1 & 05-03-2010 & 1554807 & 0 &  8.055556 & 2.625 & 211.3501 & 8.106 & Positive\\_Temperature\\\\\n\t6 & 1 & 12-03-2010 & 1439542 & 0 & 14.327778 & 2.667 & 211.3806 & 8.106 & Positive\\_Temperature\\\\\n\\end{tabular}\n",
            "text/plain": [
              "  Store Date       Weekly_Sales Holiday_Flag Temperature Fuel_Price CPI     \n",
              "1 1     05-02-2010 1643691      0             5.727778   2.572      211.0964\n",
              "2 1     12-02-2010 1641957      1             3.616667   2.548      211.2422\n",
              "3 1     19-02-2010 1611968      0             4.405556   2.514      211.2891\n",
              "4 1     26-02-2010 1409728      0             8.127778   2.561      211.3196\n",
              "5 1     05-03-2010 1554807      0             8.055556   2.625      211.3501\n",
              "6 1     12-03-2010 1439542      0            14.327778   2.667      211.3806\n",
              "  Unemployment temperature_category\n",
              "1 8.106        Positive_Temperature\n",
              "2 8.106        Positive_Temperature\n",
              "3 8.106        Positive_Temperature\n",
              "4 8.106        Positive_Temperature\n",
              "5 8.106        Positive_Temperature\n",
              "6 8.106        Positive_Temperature"
            ]
          },
          "metadata": {}
        }
      ]
    },
    {
      "cell_type": "markdown",
      "source": [
        "The first categorical independent variable has been created, I will now create a second categorical independent variable (in the \"cat\" column) by using a for loop again. This new categorical variable/column will use the Unemployment column which contains the national unemployment rate for every given date, to create three levels of unemployment. These levels are low, medium, and high."
      ],
      "metadata": {
        "id": "WgGNWMZALIxR"
      }
    },
    {
      "cell_type": "code",
      "source": [
        "\n",
        "for(i in 1:length(walmart$Unemployment)){\n",
        "  if(walmart$Unemployment[i] <= 5.0){\n",
        "    walmart$cat[i] <- \"Low\"\n",
        "  } else if(walmart$Unemployment[i] <= 10.0 ){\n",
        "    walmart$cat[i] <- \"Medium\"\n",
        "  } else {\n",
        "    walmart$cat[i] <- \"High\"\n",
        "  }\n",
        "}\n"
      ],
      "metadata": {
        "id": "4Mp58cFQ00lk"
      },
      "execution_count": 4,
      "outputs": []
    },
    {
      "cell_type": "code",
      "source": [
        "head(walmart)"
      ],
      "metadata": {
        "colab": {
          "base_uri": "https://localhost:8080/",
          "height": 286
        },
        "id": "edhuM6_yNemk",
        "outputId": "a70c801b-6492-4ac4-eef3-f867a0f69fa1"
      },
      "execution_count": null,
      "outputs": [
        {
          "output_type": "display_data",
          "data": {
            "text/html": [
              "<table class=\"dataframe\">\n",
              "<caption>A data.frame: 6 × 10</caption>\n",
              "<thead>\n",
              "\t<tr><th></th><th scope=col>Store</th><th scope=col>Date</th><th scope=col>Weekly_Sales</th><th scope=col>Holiday_Flag</th><th scope=col>Temperature</th><th scope=col>Fuel_Price</th><th scope=col>CPI</th><th scope=col>Unemployment</th><th scope=col>temperature_category</th><th scope=col>cat</th></tr>\n",
              "\t<tr><th></th><th scope=col>&lt;dbl&gt;</th><th scope=col>&lt;chr&gt;</th><th scope=col>&lt;dbl&gt;</th><th scope=col>&lt;dbl&gt;</th><th scope=col>&lt;dbl&gt;</th><th scope=col>&lt;dbl&gt;</th><th scope=col>&lt;dbl&gt;</th><th scope=col>&lt;dbl&gt;</th><th scope=col>&lt;fct&gt;</th><th scope=col>&lt;chr&gt;</th></tr>\n",
              "</thead>\n",
              "<tbody>\n",
              "\t<tr><th scope=row>1</th><td>1</td><td>05-02-2010</td><td>1643691</td><td>0</td><td> 5.727778</td><td>2.572</td><td>211.0964</td><td>8.106</td><td>Positive_Temperature</td><td>Medium</td></tr>\n",
              "\t<tr><th scope=row>2</th><td>1</td><td>12-02-2010</td><td>1641957</td><td>1</td><td> 3.616667</td><td>2.548</td><td>211.2422</td><td>8.106</td><td>Positive_Temperature</td><td>Medium</td></tr>\n",
              "\t<tr><th scope=row>3</th><td>1</td><td>19-02-2010</td><td>1611968</td><td>0</td><td> 4.405556</td><td>2.514</td><td>211.2891</td><td>8.106</td><td>Positive_Temperature</td><td>Medium</td></tr>\n",
              "\t<tr><th scope=row>4</th><td>1</td><td>26-02-2010</td><td>1409728</td><td>0</td><td> 8.127778</td><td>2.561</td><td>211.3196</td><td>8.106</td><td>Positive_Temperature</td><td>Medium</td></tr>\n",
              "\t<tr><th scope=row>5</th><td>1</td><td>05-03-2010</td><td>1554807</td><td>0</td><td> 8.055556</td><td>2.625</td><td>211.3501</td><td>8.106</td><td>Positive_Temperature</td><td>Medium</td></tr>\n",
              "\t<tr><th scope=row>6</th><td>1</td><td>12-03-2010</td><td>1439542</td><td>0</td><td>14.327778</td><td>2.667</td><td>211.3806</td><td>8.106</td><td>Positive_Temperature</td><td>Medium</td></tr>\n",
              "</tbody>\n",
              "</table>\n"
            ],
            "text/markdown": "\nA data.frame: 6 × 10\n\n| <!--/--> | Store &lt;dbl&gt; | Date &lt;chr&gt; | Weekly_Sales &lt;dbl&gt; | Holiday_Flag &lt;dbl&gt; | Temperature &lt;dbl&gt; | Fuel_Price &lt;dbl&gt; | CPI &lt;dbl&gt; | Unemployment &lt;dbl&gt; | temperature_category &lt;fct&gt; | cat &lt;chr&gt; |\n|---|---|---|---|---|---|---|---|---|---|---|\n| 1 | 1 | 05-02-2010 | 1643691 | 0 |  5.727778 | 2.572 | 211.0964 | 8.106 | Positive_Temperature | Medium |\n| 2 | 1 | 12-02-2010 | 1641957 | 1 |  3.616667 | 2.548 | 211.2422 | 8.106 | Positive_Temperature | Medium |\n| 3 | 1 | 19-02-2010 | 1611968 | 0 |  4.405556 | 2.514 | 211.2891 | 8.106 | Positive_Temperature | Medium |\n| 4 | 1 | 26-02-2010 | 1409728 | 0 |  8.127778 | 2.561 | 211.3196 | 8.106 | Positive_Temperature | Medium |\n| 5 | 1 | 05-03-2010 | 1554807 | 0 |  8.055556 | 2.625 | 211.3501 | 8.106 | Positive_Temperature | Medium |\n| 6 | 1 | 12-03-2010 | 1439542 | 0 | 14.327778 | 2.667 | 211.3806 | 8.106 | Positive_Temperature | Medium |\n\n",
            "text/latex": "A data.frame: 6 × 10\n\\begin{tabular}{r|llllllllll}\n  & Store & Date & Weekly\\_Sales & Holiday\\_Flag & Temperature & Fuel\\_Price & CPI & Unemployment & temperature\\_category & cat\\\\\n  & <dbl> & <chr> & <dbl> & <dbl> & <dbl> & <dbl> & <dbl> & <dbl> & <fct> & <chr>\\\\\n\\hline\n\t1 & 1 & 05-02-2010 & 1643691 & 0 &  5.727778 & 2.572 & 211.0964 & 8.106 & Positive\\_Temperature & Medium\\\\\n\t2 & 1 & 12-02-2010 & 1641957 & 1 &  3.616667 & 2.548 & 211.2422 & 8.106 & Positive\\_Temperature & Medium\\\\\n\t3 & 1 & 19-02-2010 & 1611968 & 0 &  4.405556 & 2.514 & 211.2891 & 8.106 & Positive\\_Temperature & Medium\\\\\n\t4 & 1 & 26-02-2010 & 1409728 & 0 &  8.127778 & 2.561 & 211.3196 & 8.106 & Positive\\_Temperature & Medium\\\\\n\t5 & 1 & 05-03-2010 & 1554807 & 0 &  8.055556 & 2.625 & 211.3501 & 8.106 & Positive\\_Temperature & Medium\\\\\n\t6 & 1 & 12-03-2010 & 1439542 & 0 & 14.327778 & 2.667 & 211.3806 & 8.106 & Positive\\_Temperature & Medium\\\\\n\\end{tabular}\n",
            "text/plain": [
              "  Store Date       Weekly_Sales Holiday_Flag Temperature Fuel_Price CPI     \n",
              "1 1     05-02-2010 1643691      0             5.727778   2.572      211.0964\n",
              "2 1     12-02-2010 1641957      1             3.616667   2.548      211.2422\n",
              "3 1     19-02-2010 1611968      0             4.405556   2.514      211.2891\n",
              "4 1     26-02-2010 1409728      0             8.127778   2.561      211.3196\n",
              "5 1     05-03-2010 1554807      0             8.055556   2.625      211.3501\n",
              "6 1     12-03-2010 1439542      0            14.327778   2.667      211.3806\n",
              "  Unemployment temperature_category cat   \n",
              "1 8.106        Positive_Temperature Medium\n",
              "2 8.106        Positive_Temperature Medium\n",
              "3 8.106        Positive_Temperature Medium\n",
              "4 8.106        Positive_Temperature Medium\n",
              "5 8.106        Positive_Temperature Medium\n",
              "6 8.106        Positive_Temperature Medium"
            ]
          },
          "metadata": {}
        }
      ]
    },
    {
      "cell_type": "code",
      "source": [
        "walmart$cat <- as.factor(walmart$cat)\n",
        "levels(walmart$cat)\n",
        "\n",
        "sum(as.numeric(walmart$cat == \"Low\"))\n",
        "sum(as.numeric(walmart$cat == \"Medium\"))\n",
        "sum(as.numeric(walmart$cat == \"High\"))"
      ],
      "metadata": {
        "colab": {
          "base_uri": "https://localhost:8080/",
          "height": 86
        },
        "id": "AOR_eLWzRsb9",
        "outputId": "0d48aeda-3dba-4dc1-acbb-66cad73d5814"
      },
      "execution_count": 5,
      "outputs": [
        {
          "output_type": "display_data",
          "data": {
            "text/html": [
              "<style>\n",
              ".list-inline {list-style: none; margin:0; padding: 0}\n",
              ".list-inline>li {display: inline-block}\n",
              ".list-inline>li:not(:last-child)::after {content: \"\\00b7\"; padding: 0 .5ex}\n",
              "</style>\n",
              "<ol class=list-inline><li>'High'</li><li>'Low'</li><li>'Medium'</li></ol>\n"
            ],
            "text/markdown": "1. 'High'\n2. 'Low'\n3. 'Medium'\n\n\n",
            "text/latex": "\\begin{enumerate*}\n\\item 'High'\n\\item 'Low'\n\\item 'Medium'\n\\end{enumerate*}\n",
            "text/plain": [
              "[1] \"High\"   \"Low\"    \"Medium\""
            ]
          },
          "metadata": {}
        },
        {
          "output_type": "display_data",
          "data": {
            "text/html": [
              "213"
            ],
            "text/markdown": "213",
            "text/latex": "213",
            "text/plain": [
              "[1] 213"
            ]
          },
          "metadata": {}
        },
        {
          "output_type": "display_data",
          "data": {
            "text/html": [
              "5593"
            ],
            "text/markdown": "5593",
            "text/latex": "5593",
            "text/plain": [
              "[1] 5593"
            ]
          },
          "metadata": {}
        },
        {
          "output_type": "display_data",
          "data": {
            "text/html": [
              "629"
            ],
            "text/markdown": "629",
            "text/latex": "629",
            "text/plain": [
              "[1] 629"
            ]
          },
          "metadata": {}
        }
      ]
    },
    {
      "cell_type": "markdown",
      "source": [
        "I will now use the Levene's Test to check for homogeneity/equality of variances and use the the Kolmogorov-Smirnov Test to check if the data is normally distributed. Since the size of walmart$Weekly_Sales is greater than 5000, we will not be to use the Shapiro-Wilk Normality test."
      ],
      "metadata": {
        "id": "UKHuyl9vMLFq"
      }
    },
    {
      "cell_type": "code",
      "source": [
        "install.packages('car')"
      ],
      "metadata": {
        "id": "r5INr4PbICKT",
        "colab": {
          "base_uri": "https://localhost:8080/"
        },
        "outputId": "b596b8c9-ffbb-4cfb-cb8e-0b459a65cc49"
      },
      "execution_count": null,
      "outputs": [
        {
          "output_type": "stream",
          "name": "stderr",
          "text": [
            "Installing package into ‘/usr/local/lib/R/site-library’\n",
            "(as ‘lib’ is unspecified)\n",
            "\n",
            "also installing the dependencies ‘numDeriv’, ‘SparseM’, ‘MatrixModels’, ‘minqa’, ‘nloptr’, ‘Rcpp’, ‘RcppEigen’, ‘carData’, ‘abind’, ‘pbkrtest’, ‘quantreg’, ‘lme4’\n",
            "\n",
            "\n"
          ]
        }
      ]
    },
    {
      "cell_type": "code",
      "source": [
        "library('car')\n",
        "leveneTest(Weekly_Sales ~ temperature_category*cat, walmart)"
      ],
      "metadata": {
        "id": "BCO4sMalh0IC",
        "colab": {
          "base_uri": "https://localhost:8080/",
          "height": 161
        },
        "outputId": "559f913c-b206-4c6c-dba9-461dfc529178"
      },
      "execution_count": null,
      "outputs": [
        {
          "output_type": "display_data",
          "data": {
            "text/html": [
              "<table class=\"dataframe\">\n",
              "<caption>A anova: 2 × 3</caption>\n",
              "<thead>\n",
              "\t<tr><th></th><th scope=col>Df</th><th scope=col>F value</th><th scope=col>Pr(&gt;F)</th></tr>\n",
              "\t<tr><th></th><th scope=col>&lt;int&gt;</th><th scope=col>&lt;dbl&gt;</th><th scope=col>&lt;dbl&gt;</th></tr>\n",
              "</thead>\n",
              "<tbody>\n",
              "\t<tr><th scope=row>group</th><td>   5</td><td>36.28638</td><td>8.920948e-37</td></tr>\n",
              "\t<tr><th scope=row> </th><td>6429</td><td>      NA</td><td>          NA</td></tr>\n",
              "</tbody>\n",
              "</table>\n"
            ],
            "text/markdown": "\nA anova: 2 × 3\n\n| <!--/--> | Df &lt;int&gt; | F value &lt;dbl&gt; | Pr(&gt;F) &lt;dbl&gt; |\n|---|---|---|---|\n| group |    5 | 36.28638 | 8.920948e-37 |\n| <!----> | 6429 |       NA |           NA |\n\n",
            "text/latex": "A anova: 2 × 3\n\\begin{tabular}{r|lll}\n  & Df & F value & Pr(>F)\\\\\n  & <int> & <dbl> & <dbl>\\\\\n\\hline\n\tgroup &    5 & 36.28638 & 8.920948e-37\\\\\n\t  & 6429 &       NA &           NA\\\\\n\\end{tabular}\n",
            "text/plain": [
              "      Df   F value  Pr(>F)      \n",
              "group    5 36.28638 8.920948e-37\n",
              "      6429       NA           NA"
            ]
          },
          "metadata": {}
        }
      ]
    },
    {
      "cell_type": "code",
      "source": [
        "# Since the size of walmart$Weekly_Sales is greater than 5000, we will not be to use the Shapiro-Wilk Normality test. Therefore, the Kolmogorov-Smirnov Test will be used instead\n",
        "ks.test(walmart$Weekly_Sales, 'pnorm')"
      ],
      "metadata": {
        "id": "UW0xKhbsjcHv",
        "colab": {
          "base_uri": "https://localhost:8080/",
          "height": 121
        },
        "outputId": "19df1d7b-2563-4498-d06b-c64d6b7ec2b4"
      },
      "execution_count": null,
      "outputs": [
        {
          "output_type": "display_data",
          "data": {
            "text/plain": [
              "\n",
              "\tAsymptotic one-sample Kolmogorov-Smirnov test\n",
              "\n",
              "data:  walmart$Weekly_Sales\n",
              "D = 1, p-value < 2.2e-16\n",
              "alternative hypothesis: two-sided\n"
            ]
          },
          "metadata": {}
        }
      ]
    },
    {
      "cell_type": "markdown",
      "source": [
        "Both equality/homogeneity of variance and assumption of normality are violated. Therefore, a non-parametric test should be used that can analyze the effects of two independent variables (Temperature and Unemployment) on the dependent variable. However, for demonstration purposes, I will proceed to conduct a 2X3 between-design Factorial ANOVA."
      ],
      "metadata": {
        "id": "rX7TFTcfsGvC"
      }
    },
    {
      "cell_type": "code",
      "source": [
        "summary(aov(Weekly_Sales ~ temperature_category + cat + temperature_category:cat, walmart))"
      ],
      "metadata": {
        "id": "SZdgIkJ2syw7",
        "colab": {
          "base_uri": "https://localhost:8080/",
          "height": 138
        },
        "outputId": "52a129b4-07cd-4f92-959f-2f87685708fe"
      },
      "execution_count": null,
      "outputs": [
        {
          "output_type": "display_data",
          "data": {
            "text/plain": [
              "                           Df    Sum Sq   Mean Sq F value Pr(>F)    \n",
              "temperature_category        1 8.746e+09 8.746e+09   0.028 0.8667    \n",
              "cat                         2 5.027e+13 2.514e+13  80.919 <2e-16 ***\n",
              "temperature_category:cat    2 1.937e+12 9.683e+11   3.117 0.0443 *  \n",
              "Residuals                6429 1.997e+15 3.106e+11                   \n",
              "---\n",
              "Signif. codes:  0 ‘***’ 0.001 ‘**’ 0.01 ‘*’ 0.05 ‘.’ 0.1 ‘ ’ 1"
            ]
          },
          "metadata": {}
        }
      ]
    },
    {
      "cell_type": "markdown",
      "source": [
        "There is no significant effect of temperature on weekly sales but there is a significant effect of unemployment category and also a signficant interaction between temperature and unemployment category. The signficant interactions means that the effect of either IV is not the same at different levels of the other IV.\n",
        "\n",
        "  Therefore, we will do a simple effects analysis looking at the effect of unemployment category at different levels of temperature."
      ],
      "metadata": {
        "id": "-n1dTrl-vbOC"
      }
    },
    {
      "cell_type": "code",
      "source": [
        "# at the positive level of the temperature variable\n",
        "summary(aov(walmart$Weekly_Sales[walmart$temperature_category == 'Positive_Temperature'] ~\n",
        "walmart$cat[walmart$temperature_category == 'Positive_Temperature']))"
      ],
      "metadata": {
        "id": "TZtbWi_Wv0Bq",
        "colab": {
          "base_uri": "https://localhost:8080/",
          "height": 312
        },
        "outputId": "644000c7-a229-49f6-a72e-157da4289b52"
      },
      "execution_count": 6,
      "outputs": [
        {
          "output_type": "display_data",
          "data": {
            "text/plain": [
              "                                                                      Df\n",
              "walmart$cat[walmart$temperature_category == \"Positive_Temperature\"]    2\n",
              "Residuals                                                           5917\n",
              "                                                                       Sum Sq\n",
              "walmart$cat[walmart$temperature_category == \"Positive_Temperature\"] 4.973e+13\n",
              "Residuals                                                           1.835e+15\n",
              "                                                                      Mean Sq\n",
              "walmart$cat[walmart$temperature_category == \"Positive_Temperature\"] 2.486e+13\n",
              "Residuals                                                           3.101e+11\n",
              "                                                                    F value\n",
              "walmart$cat[walmart$temperature_category == \"Positive_Temperature\"]   80.17\n",
              "Residuals                                                                  \n",
              "                                                                    Pr(>F)    \n",
              "walmart$cat[walmart$temperature_category == \"Positive_Temperature\"] <2e-16 ***\n",
              "Residuals                                                                     \n",
              "---\n",
              "Signif. codes:  0 ‘***’ 0.001 ‘**’ 0.01 ‘*’ 0.05 ‘.’ 0.1 ‘ ’ 1"
            ]
          },
          "metadata": {}
        }
      ]
    },
    {
      "cell_type": "markdown",
      "source": [
        "Unemployment has a signficant effect during positive temperature days which means that weekly sales signficantly differ among the levels of unemployment (low, medium,high) on positive temperature days.\n",
        "\n",
        "  To find out which groups signficantly differ we will use the Scheffe post-hoc test.\n"
      ],
      "metadata": {
        "id": "aK2H-qMtHHfY"
      }
    },
    {
      "cell_type": "code",
      "source": [
        "install.packages(\"DescTools\")"
      ],
      "metadata": {
        "id": "f0nLojiwcHAh"
      },
      "execution_count": null,
      "outputs": []
    },
    {
      "cell_type": "code",
      "source": [
        "library(DescTools)"
      ],
      "metadata": {
        "id": "BrMl6VQAcnvq"
      },
      "execution_count": null,
      "outputs": []
    },
    {
      "cell_type": "code",
      "source": [
        "ScheffeTest(aov(walmart$Weekly_Sales[walmart$temperature_category == 'Positive_Temperature'] ~\n",
        "walmart$cat[walmart$temperature_category == 'Positive_Temperature']))"
      ],
      "metadata": {
        "colab": {
          "base_uri": "https://localhost:8080/",
          "height": 225
        },
        "id": "sugL7J-dcvV6",
        "outputId": "96bf3a96-5820-4c71-bb81-89b8047b9222"
      },
      "execution_count": null,
      "outputs": [
        {
          "output_type": "display_data",
          "data": {
            "text/plain": [
              "\n",
              "  Posthoc multiple comparisons of means: Scheffe Test \n",
              "    95% family-wise confidence level\n",
              "\n",
              "$`walmart$cat[walmart$temperature_category == \"Positive_Temperature\"]`\n",
              "                 diff    lwr.ci    upr.ci    pval    \n",
              "Low-High     563371.9  449399.7  677344.0 < 2e-16 ***\n",
              "Medium-High  211164.0  152763.2  269564.9 < 2e-16 ***\n",
              "Medium-Low  -352207.8 -453720.3 -250695.3 2.7e-16 ***\n",
              "\n",
              "---\n",
              "Signif. codes:  0 '***' 0.001 '**' 0.01 '*' 0.05 '.' 0.1 ' ' 1\n"
            ]
          },
          "metadata": {}
        }
      ]
    },
    {
      "cell_type": "markdown",
      "source": [
        "All groups siginficantly differ from each other. Below I will create a new data frame to find the mean for each group in order to find the nature of the differences."
      ],
      "metadata": {
        "id": "U804QCl6c-M6"
      }
    },
    {
      "cell_type": "code",
      "source": [
        "o1 <- walmart$Weekly_Sales[walmart$temperature_category == 'Positive_Temperature']\n",
        "o2 <- walmart$cat[walmart$temperature_category == 'Positive_Temperature']\n",
        "dataf <- data.frame(o1,o2)\n",
        "head(dataf)"
      ],
      "metadata": {
        "colab": {
          "base_uri": "https://localhost:8080/",
          "height": 286
        },
        "id": "8UN-ZI1AeUGt",
        "outputId": "e7adef3f-8e9a-47be-eaab-4f8e44745265"
      },
      "execution_count": null,
      "outputs": [
        {
          "output_type": "display_data",
          "data": {
            "text/html": [
              "<table class=\"dataframe\">\n",
              "<caption>A data.frame: 6 × 2</caption>\n",
              "<thead>\n",
              "\t<tr><th></th><th scope=col>o1</th><th scope=col>o2</th></tr>\n",
              "\t<tr><th></th><th scope=col>&lt;dbl&gt;</th><th scope=col>&lt;fct&gt;</th></tr>\n",
              "</thead>\n",
              "<tbody>\n",
              "\t<tr><th scope=row>1</th><td>1643691</td><td>Medium</td></tr>\n",
              "\t<tr><th scope=row>2</th><td>1641957</td><td>Medium</td></tr>\n",
              "\t<tr><th scope=row>3</th><td>1611968</td><td>Medium</td></tr>\n",
              "\t<tr><th scope=row>4</th><td>1409728</td><td>Medium</td></tr>\n",
              "\t<tr><th scope=row>5</th><td>1554807</td><td>Medium</td></tr>\n",
              "\t<tr><th scope=row>6</th><td>1439542</td><td>Medium</td></tr>\n",
              "</tbody>\n",
              "</table>\n"
            ],
            "text/markdown": "\nA data.frame: 6 × 2\n\n| <!--/--> | o1 &lt;dbl&gt; | o2 &lt;fct&gt; |\n|---|---|---|\n| 1 | 1643691 | Medium |\n| 2 | 1641957 | Medium |\n| 3 | 1611968 | Medium |\n| 4 | 1409728 | Medium |\n| 5 | 1554807 | Medium |\n| 6 | 1439542 | Medium |\n\n",
            "text/latex": "A data.frame: 6 × 2\n\\begin{tabular}{r|ll}\n  & o1 & o2\\\\\n  & <dbl> & <fct>\\\\\n\\hline\n\t1 & 1643691 & Medium\\\\\n\t2 & 1641957 & Medium\\\\\n\t3 & 1611968 & Medium\\\\\n\t4 & 1409728 & Medium\\\\\n\t5 & 1554807 & Medium\\\\\n\t6 & 1439542 & Medium\\\\\n\\end{tabular}\n",
            "text/plain": [
              "  o1      o2    \n",
              "1 1643691 Medium\n",
              "2 1641957 Medium\n",
              "3 1611968 Medium\n",
              "4 1409728 Medium\n",
              "5 1554807 Medium\n",
              "6 1439542 Medium"
            ]
          },
          "metadata": {}
        }
      ]
    },
    {
      "cell_type": "code",
      "source": [
        "mean(dataf$o1[dataf$o2 == \"Low\"]) # mean for low unemployment\n",
        "mean(dataf$o1[dataf$o2 == \"Medium\"]) # mean for medium unemployment\n",
        "mean(dataf$o1[dataf$o2 == \"High\"]) # mean for high unemployment"
      ],
      "metadata": {
        "colab": {
          "base_uri": "https://localhost:8080/",
          "height": 69
        },
        "id": "MqjVlrDMepbk",
        "outputId": "494a1a55-977e-404d-b1f1-63b60c56c8ff"
      },
      "execution_count": null,
      "outputs": [
        {
          "output_type": "display_data",
          "data": {
            "text/html": [
              "1409461.80754011"
            ],
            "text/markdown": "1409461.80754011",
            "text/latex": "1409461.80754011",
            "text/plain": [
              "[1] 1409462"
            ]
          },
          "metadata": {}
        },
        {
          "output_type": "display_data",
          "data": {
            "text/html": [
              "1057253.99429631"
            ],
            "text/markdown": "1057253.99429631",
            "text/latex": "1057253.99429631",
            "text/plain": [
              "[1] 1057254"
            ]
          },
          "metadata": {}
        },
        {
          "output_type": "display_data",
          "data": {
            "text/html": [
              "846089.949688525"
            ],
            "text/markdown": "846089.949688525",
            "text/latex": "846089.949688525",
            "text/plain": [
              "[1] 846089.9"
            ]
          },
          "metadata": {}
        }
      ]
    },
    {
      "cell_type": "markdown",
      "source": [
        "The mean for high unemployment is the highest followed by the mean medium unemployment which is the second highest and the mean for low unemployment is the lowest. Since all groups signficantly differ from each other, we can conclude that sales are the highest when unemployment is highest with sales decreasing as unemployment decreases. This is only for positive temperature days."
      ],
      "metadata": {
        "id": "11OCsI6Uf0dJ"
      }
    },
    {
      "cell_type": "code",
      "source": [
        "# at the negative level of the temperature variable\n",
        "summary(aov(walmart$Weekly_Sales[walmart$temperature_category == 'Negative_Temperature'] ~\n",
        "walmart$cat[walmart$temperature_category == 'Negative_Temperature']))"
      ],
      "metadata": {
        "id": "fIAv5aUCzKy2",
        "colab": {
          "base_uri": "https://localhost:8080/",
          "height": 312
        },
        "outputId": "1fd93d45-601b-47bd-b7ae-309ded2b767a"
      },
      "execution_count": 9,
      "outputs": [
        {
          "output_type": "display_data",
          "data": {
            "text/plain": [
              "                                                                     Df\n",
              "walmart$cat[walmart$temperature_category == \"Negative_Temperature\"]   2\n",
              "Residuals                                                           512\n",
              "                                                                       Sum Sq\n",
              "walmart$cat[walmart$temperature_category == \"Negative_Temperature\"] 2.481e+12\n",
              "Residuals                                                           1.620e+14\n",
              "                                                                      Mean Sq\n",
              "walmart$cat[walmart$temperature_category == \"Negative_Temperature\"] 1.241e+12\n",
              "Residuals                                                           3.164e+11\n",
              "                                                                    F value\n",
              "walmart$cat[walmart$temperature_category == \"Negative_Temperature\"]   3.921\n",
              "Residuals                                                                  \n",
              "                                                                    Pr(>F)  \n",
              "walmart$cat[walmart$temperature_category == \"Negative_Temperature\"] 0.0204 *\n",
              "Residuals                                                                   \n",
              "---\n",
              "Signif. codes:  0 ‘***’ 0.001 ‘**’ 0.01 ‘*’ 0.05 ‘.’ 0.1 ‘ ’ 1"
            ]
          },
          "metadata": {}
        }
      ]
    },
    {
      "cell_type": "markdown",
      "source": [
        "Unemployment has a signficant effect during negative temperature days as well which means that weekly sales signficantly differ among the levels of unemployment (low, medium,high) on negative temperature days as well.\n",
        "\n",
        "To find out which groups signficantly differ we will use the Scheffe post-hoc test."
      ],
      "metadata": {
        "id": "wUbXmBfbIZB0"
      }
    },
    {
      "cell_type": "code",
      "source": [
        "ScheffeTest(aov(walmart$Weekly_Sales[walmart$temperature_category == 'Negative_Temperature'] ~\n",
        "walmart$cat[walmart$temperature_category == 'Negative_Temperature']))"
      ],
      "metadata": {
        "id": "Bb2cgJhu5eff",
        "colab": {
          "base_uri": "https://localhost:8080/",
          "height": 225
        },
        "outputId": "2681ca7e-3087-4cba-85a3-dd8170805860"
      },
      "execution_count": null,
      "outputs": [
        {
          "output_type": "display_data",
          "data": {
            "text/plain": [
              "\n",
              "  Posthoc multiple comparisons of means: Scheffe Test \n",
              "    95% family-wise confidence level\n",
              "\n",
              "$`walmart$cat[walmart$temperature_category == \"Negative_Temperature\"]`\n",
              "                 diff     lwr.ci   upr.ci   pval    \n",
              "Low-High    429974.53   13227.69 846721.4 0.0413 *  \n",
              "Medium-High 353276.83   30161.01 676392.7 0.0280 *  \n",
              "Medium-Low  -76697.69 -354883.37 201488.0 0.7954    \n",
              "\n",
              "---\n",
              "Signif. codes:  0 '***' 0.001 '**' 0.01 '*' 0.05 '.' 0.1 ' ' 1\n"
            ]
          },
          "metadata": {}
        }
      ]
    },
    {
      "cell_type": "markdown",
      "source": [
        "We can see that the mean sales for medium and low unemployment do not signficantly differ. But both of them are signficantly different from mean sales of high unemployment.\n",
        "\n",
        "I will now calculate the group means below."
      ],
      "metadata": {
        "id": "kdmeNsdAh0Cg"
      }
    },
    {
      "cell_type": "code",
      "source": [
        "o3 <- walmart$Weekly_Sales[walmart$temperature_category == 'Negative_Temperature']\n",
        "o4 <- walmart$cat[walmart$temperature_category == 'Negative_Temperature']\n",
        "dataf2 <- data.frame(o3,o4)\n",
        "head(dataf2)"
      ],
      "metadata": {
        "colab": {
          "base_uri": "https://localhost:8080/",
          "height": 286
        },
        "id": "t5zoKsfCidom",
        "outputId": "f0e100ba-1d6a-47af-8f75-de95888ef031"
      },
      "execution_count": null,
      "outputs": [
        {
          "output_type": "display_data",
          "data": {
            "text/html": [
              "<table class=\"dataframe\">\n",
              "<caption>A data.frame: 6 × 2</caption>\n",
              "<thead>\n",
              "\t<tr><th></th><th scope=col>o3</th><th scope=col>o4</th></tr>\n",
              "\t<tr><th></th><th scope=col>&lt;dbl&gt;</th><th scope=col>&lt;fct&gt;</th></tr>\n",
              "</thead>\n",
              "<tbody>\n",
              "\t<tr><th scope=row>1</th><td>2188307.4</td><td>Medium</td></tr>\n",
              "\t<tr><th scope=row>2</th><td>1865502.5</td><td>Medium</td></tr>\n",
              "\t<tr><th scope=row>3</th><td>2508955.2</td><td>Medium</td></tr>\n",
              "\t<tr><th scope=row>4</th><td> 496725.4</td><td>Medium</td></tr>\n",
              "\t<tr><th scope=row>5</th><td> 524104.9</td><td>Medium</td></tr>\n",
              "\t<tr><th scope=row>6</th><td> 506760.5</td><td>Medium</td></tr>\n",
              "</tbody>\n",
              "</table>\n"
            ],
            "text/markdown": "\nA data.frame: 6 × 2\n\n| <!--/--> | o3 &lt;dbl&gt; | o4 &lt;fct&gt; |\n|---|---|---|\n| 1 | 2188307.4 | Medium |\n| 2 | 1865502.5 | Medium |\n| 3 | 2508955.2 | Medium |\n| 4 |  496725.4 | Medium |\n| 5 |  524104.9 | Medium |\n| 6 |  506760.5 | Medium |\n\n",
            "text/latex": "A data.frame: 6 × 2\n\\begin{tabular}{r|ll}\n  & o3 & o4\\\\\n  & <dbl> & <fct>\\\\\n\\hline\n\t1 & 2188307.4 & Medium\\\\\n\t2 & 1865502.5 & Medium\\\\\n\t3 & 2508955.2 & Medium\\\\\n\t4 &  496725.4 & Medium\\\\\n\t5 &  524104.9 & Medium\\\\\n\t6 &  506760.5 & Medium\\\\\n\\end{tabular}\n",
            "text/plain": [
              "  o3        o4    \n",
              "1 2188307.4 Medium\n",
              "2 1865502.5 Medium\n",
              "3 2508955.2 Medium\n",
              "4  496725.4 Medium\n",
              "5  524104.9 Medium\n",
              "6  506760.5 Medium"
            ]
          },
          "metadata": {}
        }
      ]
    },
    {
      "cell_type": "code",
      "source": [
        "mean(dataf2$o3[dataf2$o4 == \"Low\"]) # mean for low unemployment\n",
        "mean(dataf2$o3[dataf2$o4 == \"Medium\"]) # mean for medium unemployment\n",
        "mean(dataf2$o3[dataf2$o4 == \"High\"]) # mean for high unemployment"
      ],
      "metadata": {
        "colab": {
          "base_uri": "https://localhost:8080/",
          "height": 69
        },
        "id": "_JmTuYMyi0ma",
        "outputId": "cd841d2e-a38e-4bd6-9e32-22cb7a210b31"
      },
      "execution_count": null,
      "outputs": [
        {
          "output_type": "display_data",
          "data": {
            "text/html": [
              "1136776.65884615"
            ],
            "text/markdown": "1136776.65884615",
            "text/latex": "1136776.65884615",
            "text/plain": [
              "[1] 1136777"
            ]
          },
          "metadata": {}
        },
        {
          "output_type": "display_data",
          "data": {
            "text/html": [
              "1060078.96465957"
            ],
            "text/markdown": "1060078.96465957",
            "text/latex": "1060078.96465957",
            "text/plain": [
              "[1] 1060079"
            ]
          },
          "metadata": {}
        },
        {
          "output_type": "display_data",
          "data": {
            "text/html": [
              "706802.131052632"
            ],
            "text/markdown": "706802.131052632",
            "text/latex": "706802.131052632",
            "text/plain": [
              "[1] 706802.1"
            ]
          },
          "metadata": {}
        }
      ]
    },
    {
      "cell_type": "markdown",
      "source": [
        "We can conclude that for negative temperature days, mean sales are highest for high unemployment similar to positive temperature days. However, unlike positive temperature days, on negative temperature days mean sales do not decrease when unemployment rate goes from medium to low.\n",
        "\n",
        "Therefore, the effect of unemployment rate on weekly sales is signficant overall with higher unemployment associated with higher mean sales. But the effect of unemployment is not the same at all levels of temperature."
      ],
      "metadata": {
        "id": "SpYKMhFAjmQ9"
      }
    }
  ]
}