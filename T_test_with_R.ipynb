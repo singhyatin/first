{
  "nbformat": 4,
  "nbformat_minor": 0,
  "metadata": {
    "colab": {
      "provenance": []
    },
    "kernelspec": {
      "name": "ir",
      "display_name": "R"
    },
    "language_info": {
      "name": "R"
    }
  },
  "cells": [
    {
      "cell_type": "markdown",
      "source": [
        "I will be conducting an independent samples t-test, looking at the effect of temperature (positive or negative) on weekly sales. This dataset contains data released by Walmart and it can be found at https://www.kaggle.com/datasets/yasserh/walmart-dataset"
      ],
      "metadata": {
        "id": "FezEuHKVPujT"
      }
    },
    {
      "cell_type": "code",
      "source": [
        "library(readr)\n",
        "walmart <- read_csv(\"Walmart.csv\")\n",
        "walmart <- as.data.frame(walmart)\n",
        "dim(walmart)\n",
        "head(walmart)"
      ],
      "metadata": {
        "colab": {
          "base_uri": "https://localhost:8080/",
          "height": 442
        },
        "id": "6tACdEb2LZED",
        "outputId": "2012cda0-6fd2-422e-b9a6-3146908cc943"
      },
      "execution_count": 32,
      "outputs": [
        {
          "output_type": "stream",
          "name": "stderr",
          "text": [
            "\u001b[1mRows: \u001b[22m\u001b[34m6435\u001b[39m \u001b[1mColumns: \u001b[22m\u001b[34m8\u001b[39m\n",
            "\u001b[36m──\u001b[39m \u001b[1mColumn specification\u001b[22m \u001b[36m────────────────────────────────────────────────────────\u001b[39m\n",
            "\u001b[1mDelimiter:\u001b[22m \",\"\n",
            "\u001b[31mchr\u001b[39m (1): Date\n",
            "\u001b[32mdbl\u001b[39m (7): Store, Weekly_Sales, Holiday_Flag, Temperature, Fuel_Price, CPI, Un...\n",
            "\n",
            "\u001b[36mℹ\u001b[39m Use `spec()` to retrieve the full column specification for this data.\n",
            "\u001b[36mℹ\u001b[39m Specify the column types or set `show_col_types = FALSE` to quiet this message.\n"
          ]
        },
        {
          "output_type": "display_data",
          "data": {
            "text/html": [
              "<style>\n",
              ".list-inline {list-style: none; margin:0; padding: 0}\n",
              ".list-inline>li {display: inline-block}\n",
              ".list-inline>li:not(:last-child)::after {content: \"\\00b7\"; padding: 0 .5ex}\n",
              "</style>\n",
              "<ol class=list-inline><li>6435</li><li>8</li></ol>\n"
            ],
            "text/markdown": "1. 6435\n2. 8\n\n\n",
            "text/latex": "\\begin{enumerate*}\n\\item 6435\n\\item 8\n\\end{enumerate*}\n",
            "text/plain": [
              "[1] 6435    8"
            ]
          },
          "metadata": {}
        },
        {
          "output_type": "display_data",
          "data": {
            "text/html": [
              "<table class=\"dataframe\">\n",
              "<caption>A data.frame: 6 × 8</caption>\n",
              "<thead>\n",
              "\t<tr><th></th><th scope=col>Store</th><th scope=col>Date</th><th scope=col>Weekly_Sales</th><th scope=col>Holiday_Flag</th><th scope=col>Temperature</th><th scope=col>Fuel_Price</th><th scope=col>CPI</th><th scope=col>Unemployment</th></tr>\n",
              "\t<tr><th></th><th scope=col>&lt;dbl&gt;</th><th scope=col>&lt;chr&gt;</th><th scope=col>&lt;dbl&gt;</th><th scope=col>&lt;dbl&gt;</th><th scope=col>&lt;dbl&gt;</th><th scope=col>&lt;dbl&gt;</th><th scope=col>&lt;dbl&gt;</th><th scope=col>&lt;dbl&gt;</th></tr>\n",
              "</thead>\n",
              "<tbody>\n",
              "\t<tr><th scope=row>1</th><td>1</td><td>05-02-2010</td><td>1643691</td><td>0</td><td>42.31</td><td>2.572</td><td>211.0964</td><td>8.106</td></tr>\n",
              "\t<tr><th scope=row>2</th><td>1</td><td>12-02-2010</td><td>1641957</td><td>1</td><td>38.51</td><td>2.548</td><td>211.2422</td><td>8.106</td></tr>\n",
              "\t<tr><th scope=row>3</th><td>1</td><td>19-02-2010</td><td>1611968</td><td>0</td><td>39.93</td><td>2.514</td><td>211.2891</td><td>8.106</td></tr>\n",
              "\t<tr><th scope=row>4</th><td>1</td><td>26-02-2010</td><td>1409728</td><td>0</td><td>46.63</td><td>2.561</td><td>211.3196</td><td>8.106</td></tr>\n",
              "\t<tr><th scope=row>5</th><td>1</td><td>05-03-2010</td><td>1554807</td><td>0</td><td>46.50</td><td>2.625</td><td>211.3501</td><td>8.106</td></tr>\n",
              "\t<tr><th scope=row>6</th><td>1</td><td>12-03-2010</td><td>1439542</td><td>0</td><td>57.79</td><td>2.667</td><td>211.3806</td><td>8.106</td></tr>\n",
              "</tbody>\n",
              "</table>\n"
            ],
            "text/markdown": "\nA data.frame: 6 × 8\n\n| <!--/--> | Store &lt;dbl&gt; | Date &lt;chr&gt; | Weekly_Sales &lt;dbl&gt; | Holiday_Flag &lt;dbl&gt; | Temperature &lt;dbl&gt; | Fuel_Price &lt;dbl&gt; | CPI &lt;dbl&gt; | Unemployment &lt;dbl&gt; |\n|---|---|---|---|---|---|---|---|---|\n| 1 | 1 | 05-02-2010 | 1643691 | 0 | 42.31 | 2.572 | 211.0964 | 8.106 |\n| 2 | 1 | 12-02-2010 | 1641957 | 1 | 38.51 | 2.548 | 211.2422 | 8.106 |\n| 3 | 1 | 19-02-2010 | 1611968 | 0 | 39.93 | 2.514 | 211.2891 | 8.106 |\n| 4 | 1 | 26-02-2010 | 1409728 | 0 | 46.63 | 2.561 | 211.3196 | 8.106 |\n| 5 | 1 | 05-03-2010 | 1554807 | 0 | 46.50 | 2.625 | 211.3501 | 8.106 |\n| 6 | 1 | 12-03-2010 | 1439542 | 0 | 57.79 | 2.667 | 211.3806 | 8.106 |\n\n",
            "text/latex": "A data.frame: 6 × 8\n\\begin{tabular}{r|llllllll}\n  & Store & Date & Weekly\\_Sales & Holiday\\_Flag & Temperature & Fuel\\_Price & CPI & Unemployment\\\\\n  & <dbl> & <chr> & <dbl> & <dbl> & <dbl> & <dbl> & <dbl> & <dbl>\\\\\n\\hline\n\t1 & 1 & 05-02-2010 & 1643691 & 0 & 42.31 & 2.572 & 211.0964 & 8.106\\\\\n\t2 & 1 & 12-02-2010 & 1641957 & 1 & 38.51 & 2.548 & 211.2422 & 8.106\\\\\n\t3 & 1 & 19-02-2010 & 1611968 & 0 & 39.93 & 2.514 & 211.2891 & 8.106\\\\\n\t4 & 1 & 26-02-2010 & 1409728 & 0 & 46.63 & 2.561 & 211.3196 & 8.106\\\\\n\t5 & 1 & 05-03-2010 & 1554807 & 0 & 46.50 & 2.625 & 211.3501 & 8.106\\\\\n\t6 & 1 & 12-03-2010 & 1439542 & 0 & 57.79 & 2.667 & 211.3806 & 8.106\\\\\n\\end{tabular}\n",
            "text/plain": [
              "  Store Date       Weekly_Sales Holiday_Flag Temperature Fuel_Price CPI     \n",
              "1 1     05-02-2010 1643691      0            42.31       2.572      211.0964\n",
              "2 1     12-02-2010 1641957      1            38.51       2.548      211.2422\n",
              "3 1     19-02-2010 1611968      0            39.93       2.514      211.2891\n",
              "4 1     26-02-2010 1409728      0            46.63       2.561      211.3196\n",
              "5 1     05-03-2010 1554807      0            46.50       2.625      211.3501\n",
              "6 1     12-03-2010 1439542      0            57.79       2.667      211.3806\n",
              "  Unemployment\n",
              "1 8.106       \n",
              "2 8.106       \n",
              "3 8.106       \n",
              "4 8.106       \n",
              "5 8.106       \n",
              "6 8.106       "
            ]
          },
          "metadata": {}
        }
      ]
    },
    {
      "cell_type": "code",
      "source": [
        "dim(walmart)"
      ],
      "metadata": {
        "colab": {
          "base_uri": "https://localhost:8080/",
          "height": 34
        },
        "id": "R3EwPiE_UXxB",
        "outputId": "d23e8518-7dd5-44f5-c110-df42b712dc41"
      },
      "execution_count": 33,
      "outputs": [
        {
          "output_type": "display_data",
          "data": {
            "text/html": [
              "<style>\n",
              ".list-inline {list-style: none; margin:0; padding: 0}\n",
              ".list-inline>li {display: inline-block}\n",
              ".list-inline>li:not(:last-child)::after {content: \"\\00b7\"; padding: 0 .5ex}\n",
              "</style>\n",
              "<ol class=list-inline><li>6435</li><li>8</li></ol>\n"
            ],
            "text/markdown": "1. 6435\n2. 8\n\n\n",
            "text/latex": "\\begin{enumerate*}\n\\item 6435\n\\item 8\n\\end{enumerate*}\n",
            "text/plain": [
              "[1] 6435    8"
            ]
          },
          "metadata": {}
        }
      ]
    },
    {
      "cell_type": "code",
      "source": [
        "any(is.na(walmart)) # to check if there are any missing values"
      ],
      "metadata": {
        "colab": {
          "base_uri": "https://localhost:8080/",
          "height": 34
        },
        "id": "cALd4VMhVcIL",
        "outputId": "41840826-615f-45b2-8b99-9d775015c194"
      },
      "execution_count": 34,
      "outputs": [
        {
          "output_type": "display_data",
          "data": {
            "text/html": [
              "FALSE"
            ],
            "text/markdown": "FALSE",
            "text/latex": "FALSE",
            "text/plain": [
              "[1] FALSE"
            ]
          },
          "metadata": {}
        }
      ]
    },
    {
      "cell_type": "code",
      "source": [
        "walmart$Temperature <- (walmart$Temperature - 32) * 5/9 # convert temperature from fahrenheit to celcius\n",
        "walmart$temperature_category <- walmart$Temperature\n",
        "head(walmart)"
      ],
      "metadata": {
        "id": "1_hgjDngYk-z",
        "colab": {
          "base_uri": "https://localhost:8080/",
          "height": 286
        },
        "outputId": "a7b4a63c-7015-46b8-b25d-a1298af7139b"
      },
      "execution_count": 35,
      "outputs": [
        {
          "output_type": "display_data",
          "data": {
            "text/html": [
              "<table class=\"dataframe\">\n",
              "<caption>A data.frame: 6 × 9</caption>\n",
              "<thead>\n",
              "\t<tr><th></th><th scope=col>Store</th><th scope=col>Date</th><th scope=col>Weekly_Sales</th><th scope=col>Holiday_Flag</th><th scope=col>Temperature</th><th scope=col>Fuel_Price</th><th scope=col>CPI</th><th scope=col>Unemployment</th><th scope=col>temperature_category</th></tr>\n",
              "\t<tr><th></th><th scope=col>&lt;dbl&gt;</th><th scope=col>&lt;chr&gt;</th><th scope=col>&lt;dbl&gt;</th><th scope=col>&lt;dbl&gt;</th><th scope=col>&lt;dbl&gt;</th><th scope=col>&lt;dbl&gt;</th><th scope=col>&lt;dbl&gt;</th><th scope=col>&lt;dbl&gt;</th><th scope=col>&lt;dbl&gt;</th></tr>\n",
              "</thead>\n",
              "<tbody>\n",
              "\t<tr><th scope=row>1</th><td>1</td><td>05-02-2010</td><td>1643691</td><td>0</td><td> 5.727778</td><td>2.572</td><td>211.0964</td><td>8.106</td><td> 5.727778</td></tr>\n",
              "\t<tr><th scope=row>2</th><td>1</td><td>12-02-2010</td><td>1641957</td><td>1</td><td> 3.616667</td><td>2.548</td><td>211.2422</td><td>8.106</td><td> 3.616667</td></tr>\n",
              "\t<tr><th scope=row>3</th><td>1</td><td>19-02-2010</td><td>1611968</td><td>0</td><td> 4.405556</td><td>2.514</td><td>211.2891</td><td>8.106</td><td> 4.405556</td></tr>\n",
              "\t<tr><th scope=row>4</th><td>1</td><td>26-02-2010</td><td>1409728</td><td>0</td><td> 8.127778</td><td>2.561</td><td>211.3196</td><td>8.106</td><td> 8.127778</td></tr>\n",
              "\t<tr><th scope=row>5</th><td>1</td><td>05-03-2010</td><td>1554807</td><td>0</td><td> 8.055556</td><td>2.625</td><td>211.3501</td><td>8.106</td><td> 8.055556</td></tr>\n",
              "\t<tr><th scope=row>6</th><td>1</td><td>12-03-2010</td><td>1439542</td><td>0</td><td>14.327778</td><td>2.667</td><td>211.3806</td><td>8.106</td><td>14.327778</td></tr>\n",
              "</tbody>\n",
              "</table>\n"
            ],
            "text/markdown": "\nA data.frame: 6 × 9\n\n| <!--/--> | Store &lt;dbl&gt; | Date &lt;chr&gt; | Weekly_Sales &lt;dbl&gt; | Holiday_Flag &lt;dbl&gt; | Temperature &lt;dbl&gt; | Fuel_Price &lt;dbl&gt; | CPI &lt;dbl&gt; | Unemployment &lt;dbl&gt; | temperature_category &lt;dbl&gt; |\n|---|---|---|---|---|---|---|---|---|---|\n| 1 | 1 | 05-02-2010 | 1643691 | 0 |  5.727778 | 2.572 | 211.0964 | 8.106 |  5.727778 |\n| 2 | 1 | 12-02-2010 | 1641957 | 1 |  3.616667 | 2.548 | 211.2422 | 8.106 |  3.616667 |\n| 3 | 1 | 19-02-2010 | 1611968 | 0 |  4.405556 | 2.514 | 211.2891 | 8.106 |  4.405556 |\n| 4 | 1 | 26-02-2010 | 1409728 | 0 |  8.127778 | 2.561 | 211.3196 | 8.106 |  8.127778 |\n| 5 | 1 | 05-03-2010 | 1554807 | 0 |  8.055556 | 2.625 | 211.3501 | 8.106 |  8.055556 |\n| 6 | 1 | 12-03-2010 | 1439542 | 0 | 14.327778 | 2.667 | 211.3806 | 8.106 | 14.327778 |\n\n",
            "text/latex": "A data.frame: 6 × 9\n\\begin{tabular}{r|lllllllll}\n  & Store & Date & Weekly\\_Sales & Holiday\\_Flag & Temperature & Fuel\\_Price & CPI & Unemployment & temperature\\_category\\\\\n  & <dbl> & <chr> & <dbl> & <dbl> & <dbl> & <dbl> & <dbl> & <dbl> & <dbl>\\\\\n\\hline\n\t1 & 1 & 05-02-2010 & 1643691 & 0 &  5.727778 & 2.572 & 211.0964 & 8.106 &  5.727778\\\\\n\t2 & 1 & 12-02-2010 & 1641957 & 1 &  3.616667 & 2.548 & 211.2422 & 8.106 &  3.616667\\\\\n\t3 & 1 & 19-02-2010 & 1611968 & 0 &  4.405556 & 2.514 & 211.2891 & 8.106 &  4.405556\\\\\n\t4 & 1 & 26-02-2010 & 1409728 & 0 &  8.127778 & 2.561 & 211.3196 & 8.106 &  8.127778\\\\\n\t5 & 1 & 05-03-2010 & 1554807 & 0 &  8.055556 & 2.625 & 211.3501 & 8.106 &  8.055556\\\\\n\t6 & 1 & 12-03-2010 & 1439542 & 0 & 14.327778 & 2.667 & 211.3806 & 8.106 & 14.327778\\\\\n\\end{tabular}\n",
            "text/plain": [
              "  Store Date       Weekly_Sales Holiday_Flag Temperature Fuel_Price CPI     \n",
              "1 1     05-02-2010 1643691      0             5.727778   2.572      211.0964\n",
              "2 1     12-02-2010 1641957      1             3.616667   2.548      211.2422\n",
              "3 1     19-02-2010 1611968      0             4.405556   2.514      211.2891\n",
              "4 1     26-02-2010 1409728      0             8.127778   2.561      211.3196\n",
              "5 1     05-03-2010 1554807      0             8.055556   2.625      211.3501\n",
              "6 1     12-03-2010 1439542      0            14.327778   2.667      211.3806\n",
              "  Unemployment temperature_category\n",
              "1 8.106         5.727778           \n",
              "2 8.106         3.616667           \n",
              "3 8.106         4.405556           \n",
              "4 8.106         8.127778           \n",
              "5 8.106         8.055556           \n",
              "6 8.106        14.327778           "
            ]
          },
          "metadata": {}
        }
      ]
    },
    {
      "cell_type": "markdown",
      "source": [
        "A for loop that replaces each value in the newly created temperature_category column (which is a copy of values in the Temperature column) with the string value of \"Positive_Temperature\" or  \"Negative_Temperature\"."
      ],
      "metadata": {
        "id": "MYgJpKRVmagR"
      }
    },
    {
      "cell_type": "code",
      "source": [
        "for(i in 1:length(walmart$temperature_category)){\n",
        "  if(walmart$temperature_category[i] >= 0){\n",
        "    walmart$temperature_category[i] <- \"Positive_Temperature\"\n",
        "  } else {\n",
        "    walmart$temperature_category[i] <- \"Negative_Temperature\"\n",
        "  }\n",
        "}\n",
        "\n",
        "walmart$temperature_category <- as.factor(walmart$temperature_category)\n",
        "\n",
        "head(walmart)"
      ],
      "metadata": {
        "colab": {
          "base_uri": "https://localhost:8080/",
          "height": 286
        },
        "id": "aCYdAt91lvh0",
        "outputId": "afa12771-2419-410a-e7c7-0f3fb684e9d7"
      },
      "execution_count": 36,
      "outputs": [
        {
          "output_type": "display_data",
          "data": {
            "text/html": [
              "<table class=\"dataframe\">\n",
              "<caption>A data.frame: 6 × 9</caption>\n",
              "<thead>\n",
              "\t<tr><th></th><th scope=col>Store</th><th scope=col>Date</th><th scope=col>Weekly_Sales</th><th scope=col>Holiday_Flag</th><th scope=col>Temperature</th><th scope=col>Fuel_Price</th><th scope=col>CPI</th><th scope=col>Unemployment</th><th scope=col>temperature_category</th></tr>\n",
              "\t<tr><th></th><th scope=col>&lt;dbl&gt;</th><th scope=col>&lt;chr&gt;</th><th scope=col>&lt;dbl&gt;</th><th scope=col>&lt;dbl&gt;</th><th scope=col>&lt;dbl&gt;</th><th scope=col>&lt;dbl&gt;</th><th scope=col>&lt;dbl&gt;</th><th scope=col>&lt;dbl&gt;</th><th scope=col>&lt;fct&gt;</th></tr>\n",
              "</thead>\n",
              "<tbody>\n",
              "\t<tr><th scope=row>1</th><td>1</td><td>05-02-2010</td><td>1643691</td><td>0</td><td> 5.727778</td><td>2.572</td><td>211.0964</td><td>8.106</td><td>Positive_Temperature</td></tr>\n",
              "\t<tr><th scope=row>2</th><td>1</td><td>12-02-2010</td><td>1641957</td><td>1</td><td> 3.616667</td><td>2.548</td><td>211.2422</td><td>8.106</td><td>Positive_Temperature</td></tr>\n",
              "\t<tr><th scope=row>3</th><td>1</td><td>19-02-2010</td><td>1611968</td><td>0</td><td> 4.405556</td><td>2.514</td><td>211.2891</td><td>8.106</td><td>Positive_Temperature</td></tr>\n",
              "\t<tr><th scope=row>4</th><td>1</td><td>26-02-2010</td><td>1409728</td><td>0</td><td> 8.127778</td><td>2.561</td><td>211.3196</td><td>8.106</td><td>Positive_Temperature</td></tr>\n",
              "\t<tr><th scope=row>5</th><td>1</td><td>05-03-2010</td><td>1554807</td><td>0</td><td> 8.055556</td><td>2.625</td><td>211.3501</td><td>8.106</td><td>Positive_Temperature</td></tr>\n",
              "\t<tr><th scope=row>6</th><td>1</td><td>12-03-2010</td><td>1439542</td><td>0</td><td>14.327778</td><td>2.667</td><td>211.3806</td><td>8.106</td><td>Positive_Temperature</td></tr>\n",
              "</tbody>\n",
              "</table>\n"
            ],
            "text/markdown": "\nA data.frame: 6 × 9\n\n| <!--/--> | Store &lt;dbl&gt; | Date &lt;chr&gt; | Weekly_Sales &lt;dbl&gt; | Holiday_Flag &lt;dbl&gt; | Temperature &lt;dbl&gt; | Fuel_Price &lt;dbl&gt; | CPI &lt;dbl&gt; | Unemployment &lt;dbl&gt; | temperature_category &lt;fct&gt; |\n|---|---|---|---|---|---|---|---|---|---|\n| 1 | 1 | 05-02-2010 | 1643691 | 0 |  5.727778 | 2.572 | 211.0964 | 8.106 | Positive_Temperature |\n| 2 | 1 | 12-02-2010 | 1641957 | 1 |  3.616667 | 2.548 | 211.2422 | 8.106 | Positive_Temperature |\n| 3 | 1 | 19-02-2010 | 1611968 | 0 |  4.405556 | 2.514 | 211.2891 | 8.106 | Positive_Temperature |\n| 4 | 1 | 26-02-2010 | 1409728 | 0 |  8.127778 | 2.561 | 211.3196 | 8.106 | Positive_Temperature |\n| 5 | 1 | 05-03-2010 | 1554807 | 0 |  8.055556 | 2.625 | 211.3501 | 8.106 | Positive_Temperature |\n| 6 | 1 | 12-03-2010 | 1439542 | 0 | 14.327778 | 2.667 | 211.3806 | 8.106 | Positive_Temperature |\n\n",
            "text/latex": "A data.frame: 6 × 9\n\\begin{tabular}{r|lllllllll}\n  & Store & Date & Weekly\\_Sales & Holiday\\_Flag & Temperature & Fuel\\_Price & CPI & Unemployment & temperature\\_category\\\\\n  & <dbl> & <chr> & <dbl> & <dbl> & <dbl> & <dbl> & <dbl> & <dbl> & <fct>\\\\\n\\hline\n\t1 & 1 & 05-02-2010 & 1643691 & 0 &  5.727778 & 2.572 & 211.0964 & 8.106 & Positive\\_Temperature\\\\\n\t2 & 1 & 12-02-2010 & 1641957 & 1 &  3.616667 & 2.548 & 211.2422 & 8.106 & Positive\\_Temperature\\\\\n\t3 & 1 & 19-02-2010 & 1611968 & 0 &  4.405556 & 2.514 & 211.2891 & 8.106 & Positive\\_Temperature\\\\\n\t4 & 1 & 26-02-2010 & 1409728 & 0 &  8.127778 & 2.561 & 211.3196 & 8.106 & Positive\\_Temperature\\\\\n\t5 & 1 & 05-03-2010 & 1554807 & 0 &  8.055556 & 2.625 & 211.3501 & 8.106 & Positive\\_Temperature\\\\\n\t6 & 1 & 12-03-2010 & 1439542 & 0 & 14.327778 & 2.667 & 211.3806 & 8.106 & Positive\\_Temperature\\\\\n\\end{tabular}\n",
            "text/plain": [
              "  Store Date       Weekly_Sales Holiday_Flag Temperature Fuel_Price CPI     \n",
              "1 1     05-02-2010 1643691      0             5.727778   2.572      211.0964\n",
              "2 1     12-02-2010 1641957      1             3.616667   2.548      211.2422\n",
              "3 1     19-02-2010 1611968      0             4.405556   2.514      211.2891\n",
              "4 1     26-02-2010 1409728      0             8.127778   2.561      211.3196\n",
              "5 1     05-03-2010 1554807      0             8.055556   2.625      211.3501\n",
              "6 1     12-03-2010 1439542      0            14.327778   2.667      211.3806\n",
              "  Unemployment temperature_category\n",
              "1 8.106        Positive_Temperature\n",
              "2 8.106        Positive_Temperature\n",
              "3 8.106        Positive_Temperature\n",
              "4 8.106        Positive_Temperature\n",
              "5 8.106        Positive_Temperature\n",
              "6 8.106        Positive_Temperature"
            ]
          },
          "metadata": {}
        }
      ]
    },
    {
      "cell_type": "markdown",
      "source": [
        "I will now use the Levene's Test to check for homogeneity/equality of variances and use the the Kolmogorov-Smirnov Test to check if the data is normally distributed. Since the size of walmart$Weekly_Sales is greater than 5000, we will not be to use the Shapiro-Wilk Normality test."
      ],
      "metadata": {
        "id": "nonf_9VhSUH8"
      }
    },
    {
      "cell_type": "code",
      "source": [
        "install.packages('car')"
      ],
      "metadata": {
        "id": "WTqmQ9ByLHO1",
        "colab": {
          "base_uri": "https://localhost:8080/"
        },
        "outputId": "74e905ae-81d6-49e4-9559-4ef63a1593d2"
      },
      "execution_count": 26,
      "outputs": [
        {
          "metadata": {
            "tags": null
          },
          "name": "stderr",
          "output_type": "stream",
          "text": [
            "Installing package into ‘/usr/local/lib/R/site-library’\n",
            "(as ‘lib’ is unspecified)\n",
            "\n"
          ]
        }
      ]
    },
    {
      "cell_type": "code",
      "source": [
        "library('car')\n",
        "leveneTest(Weekly_Sales ~ temperature_category, walmart)"
      ],
      "metadata": {
        "colab": {
          "base_uri": "https://localhost:8080/",
          "height": 161
        },
        "id": "gnaUyQwchwc8",
        "outputId": "7c9b627e-38a6-4abe-9cb6-452a48bb5a7c"
      },
      "execution_count": 38,
      "outputs": [
        {
          "output_type": "display_data",
          "data": {
            "text/html": [
              "<table class=\"dataframe\">\n",
              "<caption>A anova: 2 × 3</caption>\n",
              "<thead>\n",
              "\t<tr><th></th><th scope=col>Df</th><th scope=col>F value</th><th scope=col>Pr(&gt;F)</th></tr>\n",
              "\t<tr><th></th><th scope=col>&lt;int&gt;</th><th scope=col>&lt;dbl&gt;</th><th scope=col>&lt;dbl&gt;</th></tr>\n",
              "</thead>\n",
              "<tbody>\n",
              "\t<tr><th scope=row>group</th><td>   1</td><td>16.53413</td><td>4.835241e-05</td></tr>\n",
              "\t<tr><th scope=row> </th><td>6433</td><td>      NA</td><td>          NA</td></tr>\n",
              "</tbody>\n",
              "</table>\n"
            ],
            "text/markdown": "\nA anova: 2 × 3\n\n| <!--/--> | Df &lt;int&gt; | F value &lt;dbl&gt; | Pr(&gt;F) &lt;dbl&gt; |\n|---|---|---|---|\n| group |    1 | 16.53413 | 4.835241e-05 |\n| <!----> | 6433 |       NA |           NA |\n\n",
            "text/latex": "A anova: 2 × 3\n\\begin{tabular}{r|lll}\n  & Df & F value & Pr(>F)\\\\\n  & <int> & <dbl> & <dbl>\\\\\n\\hline\n\tgroup &    1 & 16.53413 & 4.835241e-05\\\\\n\t  & 6433 &       NA &           NA\\\\\n\\end{tabular}\n",
            "text/plain": [
              "      Df   F value  Pr(>F)      \n",
              "group    1 16.53413 4.835241e-05\n",
              "      6433       NA           NA"
            ]
          },
          "metadata": {}
        }
      ]
    },
    {
      "cell_type": "code",
      "source": [
        "# Since the size of walmart$Weekly_Sales is greater than 5000, we will not be to use the Shapiro-Wilk Normality test. Therefore, the Kolmogorov-Smirnov Test will be used instead\n",
        "ks.test(walmart$Weekly_Sales, 'pnorm')"
      ],
      "metadata": {
        "colab": {
          "base_uri": "https://localhost:8080/",
          "height": 121
        },
        "id": "0sgAmYiq5DMw",
        "outputId": "2b09476a-a73f-4e37-cf31-74d4746a80a8"
      },
      "execution_count": 39,
      "outputs": [
        {
          "output_type": "display_data",
          "data": {
            "text/plain": [
              "\n",
              "\tAsymptotic one-sample Kolmogorov-Smirnov test\n",
              "\n",
              "data:  walmart$Weekly_Sales\n",
              "D = 1, p-value < 2.2e-16\n",
              "alternative hypothesis: two-sided\n"
            ]
          },
          "metadata": {}
        }
      ]
    },
    {
      "cell_type": "markdown",
      "source": [
        "The samples are clearly not normally distributed and neither is there equality/homogeneity of variance so use the Mann–Whitney U Test/Wilcoxon Rank-Sum Test instead.\n"
      ],
      "metadata": {
        "id": "pAFnULxiBF5A"
      }
    },
    {
      "cell_type": "code",
      "source": [
        "wilcox.test(Weekly_Sales ~ temperature_category, data = walmart, alternative = \"two.sided\")"
      ],
      "metadata": {
        "colab": {
          "base_uri": "https://localhost:8080/",
          "height": 121
        },
        "id": "Z4IW3iumct5v",
        "outputId": "73169f9c-4e60-42ac-ed14-2f97ca5e907c"
      },
      "execution_count": 40,
      "outputs": [
        {
          "output_type": "display_data",
          "data": {
            "text/plain": [
              "\n",
              "\tWilcoxon rank sum test with continuity correction\n",
              "\n",
              "data:  Weekly_Sales by temperature_category\n",
              "W = 1530379, p-value = 0.8825\n",
              "alternative hypothesis: true location shift is not equal to 0\n"
            ]
          },
          "metadata": {}
        }
      ]
    },
    {
      "cell_type": "markdown",
      "source": [
        "The results suggest that there is no signficant difference between sales on negative temperature days and sales on positive temperature days. Since positive temperature days are temporally clustered (they usually  occur during the spring, summer, fall, etc.) and so are negative temperature days (they usually occur during the winter), it is fair to consider weekly sales to be a general measure of sales for a particular temperature category.\n",
        "\n",
        "  Below is what the results would have looked like if I had used a t-test instead.\n"
      ],
      "metadata": {
        "id": "elmNCP0GS5XT"
      }
    },
    {
      "cell_type": "code",
      "source": [
        "t.test(walmart$Weekly_Sales ~ walmart$temperature_category, alternative = \"two.sided\")"
      ],
      "metadata": {
        "colab": {
          "base_uri": "https://localhost:8080/",
          "height": 208
        },
        "id": "H4IgxFNaRbzb",
        "outputId": "0624d7db-2be0-466c-8b45-8255f0dc4095"
      },
      "execution_count": 43,
      "outputs": [
        {
          "output_type": "display_data",
          "data": {
            "text/plain": [
              "\n",
              "\tWelch Two Sample t-test\n",
              "\n",
              "data:  walmart$Weekly_Sales by walmart$temperature_category\n",
              "t = 0.16537, df = 606.46, p-value = 0.8687\n",
              "alternative hypothesis: true difference in means between group Negative_Temperature and group Positive_Temperature is not equal to 0\n",
              "95 percent confidence interval:\n",
              " -46729.09  55322.18\n",
              "sample estimates:\n",
              "mean in group Negative_Temperature mean in group Positive_Temperature \n",
              "                           1050918                            1046621 \n"
            ]
          },
          "metadata": {}
        }
      ]
    },
    {
      "cell_type": "markdown",
      "source": [
        "Even after using a statistically more powerful test, there's still no significant effect."
      ],
      "metadata": {
        "id": "RGY7ykbZVVQO"
      }
    }
  ]
}